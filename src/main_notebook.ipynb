{
 "cells": [
  {
   "cell_type": "markdown",
   "metadata": {},
   "source": [
    "# Imports"
   ]
  },
  {
   "cell_type": "code",
   "execution_count": null,
   "metadata": {},
   "outputs": [],
   "source": [
    "import db_connection as db\n",
    "import tensorflow as tf\n",
    "import numpy as np\n",
    "import pandas as pd\n",
    "from pandas import DataFrame\n",
    "from google.cloud import bigquery\n",
    "from sklearn.model_selection import train_test_split\n",
    "from sklearn.preprocessing import StandardScaler\n",
    "from keras.models import Sequential\n",
    "from keras.layers import LSTM, GRU, Dense, Dropout, InputLayer\n",
    "from keras.optimizers import Adam\n",
    "from keras.metrics import RootMeanSquaredError\n",
    "from matplotlib import pyplot as plt"
   ]
  },
  {
   "cell_type": "markdown",
   "metadata": {},
   "source": [
    "It is important to create a \"settings.ini\" file that will contain the necessary parameters (database config parameters, in this case) for the \"cfg.py\" script. The format of this file will be:\n",
    "<br>\n",
    "<br>\n",
    "[settings]<br>\n",
    "DB_PASS=example_pass<br>\n",
    "DB_USER=postgres<br>\n",
    "DB_NAME=postgres<br>\n",
    "DB_HOST=127.0.0.1<br>\n",
    "DB_PORT=5432<br>\n",
    "<br>\n",
    "This is the configuration that a local postgreSQL database needs in order to create a connection with python 3. Note that this is a standard configuration and details may vary depending on the configuration of your own database."
   ]
  },
  {
   "cell_type": "markdown",
   "metadata": {},
   "source": [
    "# Functions definition"
   ]
  },
  {
   "cell_type": "markdown",
   "metadata": {},
   "source": [
    "## PHASE 1: ETL"
   ]
  },
  {
   "cell_type": "markdown",
   "metadata": {},
   "source": [
    "First, we need to set the client that will be used to get data from BigQuery. In this case, we created a .json key from our Google Cloud project and downloaded it to use it in our \"src/\" repository folder:"
   ]
  },
  {
   "cell_type": "code",
   "execution_count": null,
   "metadata": {},
   "outputs": [],
   "source": [
    "# Google Cloud BigQuery client for extracting raw data\n",
    "client = bigquery.Client()"
   ]
  },
  {
   "cell_type": "markdown",
   "metadata": {},
   "source": [
    "Next, we will define our 3 steps for data gathering:<br>\n",
    "\n",
    "- <strong>extract</strong>: step that contains the query which extracts raw information from our chosen dataset.\n",
    "- <strong>transform</strong>: step that cleans the retrieved data from previous step. In this case, 5 columns that the own code describes.\n",
    "- <strong>load</strong>: step that loads the clean data in our database. <em>Note</em> that between this step and the previous one we will train our neural network in order to save our prediction."
   ]
  },
  {
   "cell_type": "code",
   "execution_count": null,
   "metadata": {},
   "outputs": [],
   "source": [
    "def extract():\n",
    "    query = \"SELECT * FROM `housecanary-com.sample.zip_ts` LIMIT 2000\"\n",
    "\n",
    "    query_job = client.query(query)\n",
    "\n",
    "    return query_job\n",
    "\n",
    "\n",
    "def transform(data_raw):\n",
    "    '''\n",
    "    columns that will be saved (from 'zip_ts' table from dataset ):\n",
    "        - zip (string): 5 digit postal code\n",
    "        - msa (string): 5 digit Metropolitan Statistical Area code\n",
    "        - month (date): timeseries date\n",
    "        - hpi_value (float): nominal housing price index\n",
    "        - hpi_real (float): real housing price index after adjusting nominal hpi for inflation as measured by the CPI\n",
    "    '''\n",
    "\n",
    "    # Selecting desired columns and saving them in a list for filtering next\n",
    "    selected_columns = ['zip', 'msa', 'month', 'hpi_value', 'hpi_real']\n",
    "\n",
    "    # Getting DataFrame from previous query result\n",
    "    df_clean = data_raw.to_dataframe()\n",
    "\n",
    "    # Filtering columns given selected columns list\n",
    "    df_clean: DataFrame = df_clean.loc[:, selected_columns]\n",
    "\n",
    "    # Converting zip and msa columns to float values, month to datetime\n",
    "    df_clean['zip'] = df_clean['zip'].astype(float)\n",
    "    df_clean['msa'] = df_clean['msa'].astype(float)\n",
    "    df_clean['month'] = pd.to_datetime(df_clean['month'])\n",
    "\n",
    "    # Cleaning data from NaN values in hpi_value and hpi_real\n",
    "    df_clean = df_clean[df_clean.hpi_value.notnull()]\n",
    "    df_clean = df_clean[df_clean.hpi_real.notnull()]\n",
    "\n",
    "    return df_clean\n",
    "\n",
    "\n",
    "def load(conn, df):\n",
    "    # Table and Schema\n",
    "    table_name = \"zip_ts_raw\"\n",
    "    schema_name = \"public\"\n",
    "    \n",
    "    db.insert_rows(df, table_name, schema_name, conn)"
   ]
  },
  {
   "cell_type": "markdown",
   "metadata": {},
   "source": [
    "## PHASE 2: AI training"
   ]
  },
  {
   "cell_type": "markdown",
   "metadata": {},
   "source": [
    "In this phase, we will create a tensorflow model that will use the retrieved and cleaned data from previous our ETL phase."
   ]
  },
  {
   "cell_type": "code",
   "execution_count": null,
   "metadata": {},
   "outputs": [],
   "source": [
    "# Retrieving raw data from Google Cloud Platform dataset (House-canary)\n",
    "data_raw = extract()\n",
    "\n",
    "# Transforming raw data into processed data for database\n",
    "data_processed = transform(data_raw)"
   ]
  },
  {
   "cell_type": "code",
   "execution_count": null,
   "metadata": {},
   "outputs": [],
   "source": [
    "data_processed = data_processed.sort_values(by=['month'])\n",
    "data_processed"
   ]
  },
  {
   "cell_type": "code",
   "execution_count": null,
   "metadata": {},
   "outputs": [],
   "source": [
    "df_plot = data_processed[['month', 'hpi_value', 'hpi_real']]\n",
    "df_plot.set_index('month', inplace=True)\n",
    "\n",
    "df_plot"
   ]
  },
  {
   "cell_type": "code",
   "execution_count": null,
   "metadata": {},
   "outputs": [],
   "source": [
    "df_plot.plot(kind='line', figsize=(14,8))\n",
    "plt.title('Housing pricing')\n",
    "plt.ylabel(ylabel='values')\n",
    "plt.xlabel(xlabel='date')"
   ]
  },
  {
   "cell_type": "code",
   "execution_count": null,
   "metadata": {},
   "outputs": [],
   "source": [
    "#pd.set_option('display.max_rows', 50)\n",
    "data_processed"
   ]
  },
  {
   "cell_type": "code",
   "execution_count": null,
   "metadata": {},
   "outputs": [],
   "source": [
    "# Divide data in features (X) and labels (y)\n",
    "WINDOW_SIZE = 5\n",
    "\n",
    "df_as_np_input = data_processed.drop(['month'], axis=1).to_numpy()\n",
    "df_as_np_output = data_processed[['hpi_value', 'hpi_real']].to_numpy()\n",
    "\n",
    "X = []\n",
    "y = []\n",
    "\n",
    "for i in range(len(df_as_np_input)-WINDOW_SIZE):\n",
    "    row = [a for a in df_as_np_input[i:i+5]]\n",
    "    X.append(row)\n",
    "\n",
    "    label = df_as_np_output[i+5]\n",
    "    y.append(label)\n",
    "\n",
    "X = np.array(X)\n",
    "y = np.array(y)\n",
    "\n",
    "X.shape, y.shape"
   ]
  },
  {
   "cell_type": "code",
   "execution_count": null,
   "metadata": {},
   "outputs": [],
   "source": [
    "### Divide data in test and train sets\n",
    "\n",
    "# Training data\n",
    "X_train, y_train = X[:1200], y[:1200]\n",
    "\n",
    "# Validation data\n",
    "X_val, y_val = X[1200:1400], y[1200:1400]\n",
    "\n",
    "# Test data\n",
    "X_test, y_test = X[1400:], y[1400:]\n",
    "\n",
    "X_train.shape, y_train.shape, X_val.shape, y_val.shape, X_test.shape, y_test.shape"
   ]
  },
  {
   "cell_type": "code",
   "execution_count": null,
   "metadata": {},
   "outputs": [],
   "source": [
    "model_gru = Sequential()\n",
    "model_gru.add(InputLayer(input_shape=(X_train.shape[1], X_train.shape[2])))\n",
    "model_gru.add(GRU(64))\n",
    "model_gru.add(Dense(8, activation='relu'))\n",
    "model_gru.add(Dense(2, activation='linear'))\n",
    "\n",
    "\n",
    "# Define neural network architecture\n",
    "model = Sequential([\n",
    "    InputLayer(input_shape=(X_train.shape[1], X_train.shape[2])), # Input shape as parameter\n",
    "    LSTM(64),\n",
    "    Dense(8, activation='relu'),\n",
    "    Dense(2, activation='linear')  # 2 output neurons to predict 2 columns\n",
    "])\n",
    "\n",
    "# Compile model\n",
    "model.compile(optimizer=Adam(learning_rate=0.0005), loss='mse', metrics=[RootMeanSquaredError()])\n",
    "model_gru.compile(optimizer=Adam(learning_rate=0.0005), loss='mse', metrics=[RootMeanSquaredError()])"
   ]
  },
  {
   "cell_type": "code",
   "execution_count": null,
   "metadata": {},
   "outputs": [],
   "source": [
    "# Train model\n",
    "history = model.fit(X_train, y_train, epochs=30, validation_data=(X_val, y_val))\n",
    "history_gru = model_gru.fit(X_train, y_train, epochs=30, validation_data=(X_val, y_val))"
   ]
  },
  {
   "cell_type": "code",
   "execution_count": null,
   "metadata": {},
   "outputs": [],
   "source": [
    "plt.plot(history.history['loss'][20:30], label='Training loss')\n",
    "plt.plot(history.history['val_loss'][20:30], label='Validation loss')\n",
    "plt.legend()"
   ]
  },
  {
   "cell_type": "code",
   "execution_count": null,
   "metadata": {},
   "outputs": [],
   "source": [
    "plt.plot(history_gru.history['loss'][20:30], label='Training loss')\n",
    "plt.plot(history_gru.history['val_loss'][20:30], label='Validation loss')\n",
    "plt.legend()"
   ]
  },
  {
   "cell_type": "code",
   "execution_count": 199,
   "metadata": {},
   "outputs": [
    {
     "name": "stdout",
     "output_type": "stream",
     "text": [
      "38/38 [==============================] - 0s 732us/step\n",
      "38/38 [==============================] - 0s 678us/step\n"
     ]
    },
    {
     "data": {
      "text/html": [
       "<div>\n",
       "<style scoped>\n",
       "    .dataframe tbody tr th:only-of-type {\n",
       "        vertical-align: middle;\n",
       "    }\n",
       "\n",
       "    .dataframe tbody tr th {\n",
       "        vertical-align: top;\n",
       "    }\n",
       "\n",
       "    .dataframe thead th {\n",
       "        text-align: right;\n",
       "    }\n",
       "</style>\n",
       "<table border=\"1\" class=\"dataframe\">\n",
       "  <thead>\n",
       "    <tr style=\"text-align: right;\">\n",
       "      <th></th>\n",
       "      <th>hpi_value_prediction_LSTM</th>\n",
       "      <th>hpi_real_prediction_LSTM</th>\n",
       "      <th>hpi_value_prediction_GRU</th>\n",
       "      <th>hpi_real_prediction_GRU</th>\n",
       "      <th>hpi_value</th>\n",
       "      <th>hpi_real</th>\n",
       "    </tr>\n",
       "  </thead>\n",
       "  <tbody>\n",
       "    <tr>\n",
       "      <th>0</th>\n",
       "      <td>23.736338</td>\n",
       "      <td>30.037117</td>\n",
       "      <td>38.6922</td>\n",
       "      <td>10.022582</td>\n",
       "      <td>13.768903</td>\n",
       "      <td>45.531258</td>\n",
       "    </tr>\n",
       "    <tr>\n",
       "      <th>1</th>\n",
       "      <td>23.736338</td>\n",
       "      <td>30.037117</td>\n",
       "      <td>38.6922</td>\n",
       "      <td>10.022582</td>\n",
       "      <td>12.701623</td>\n",
       "      <td>41.843461</td>\n",
       "    </tr>\n",
       "    <tr>\n",
       "      <th>2</th>\n",
       "      <td>23.736338</td>\n",
       "      <td>30.037117</td>\n",
       "      <td>38.6922</td>\n",
       "      <td>10.022582</td>\n",
       "      <td>8.042733</td>\n",
       "      <td>26.495494</td>\n",
       "    </tr>\n",
       "    <tr>\n",
       "      <th>3</th>\n",
       "      <td>23.736338</td>\n",
       "      <td>30.037117</td>\n",
       "      <td>38.6922</td>\n",
       "      <td>10.022582</td>\n",
       "      <td>13.820352</td>\n",
       "      <td>45.528933</td>\n",
       "    </tr>\n",
       "    <tr>\n",
       "      <th>4</th>\n",
       "      <td>23.736338</td>\n",
       "      <td>30.037117</td>\n",
       "      <td>38.6922</td>\n",
       "      <td>10.022582</td>\n",
       "      <td>13.928677</td>\n",
       "      <td>45.799377</td>\n",
       "    </tr>\n",
       "    <tr>\n",
       "      <th>...</th>\n",
       "      <td>...</td>\n",
       "      <td>...</td>\n",
       "      <td>...</td>\n",
       "      <td>...</td>\n",
       "      <td>...</td>\n",
       "      <td>...</td>\n",
       "    </tr>\n",
       "    <tr>\n",
       "      <th>1195</th>\n",
       "      <td>23.736338</td>\n",
       "      <td>30.037117</td>\n",
       "      <td>38.6922</td>\n",
       "      <td>10.022582</td>\n",
       "      <td>154.218645</td>\n",
       "      <td>123.821410</td>\n",
       "    </tr>\n",
       "    <tr>\n",
       "      <th>1196</th>\n",
       "      <td>23.736338</td>\n",
       "      <td>30.037117</td>\n",
       "      <td>38.6922</td>\n",
       "      <td>10.022582</td>\n",
       "      <td>138.114581</td>\n",
       "      <td>110.891535</td>\n",
       "    </tr>\n",
       "    <tr>\n",
       "      <th>1197</th>\n",
       "      <td>23.736338</td>\n",
       "      <td>30.037117</td>\n",
       "      <td>38.6922</td>\n",
       "      <td>10.022582</td>\n",
       "      <td>131.762084</td>\n",
       "      <td>105.791145</td>\n",
       "    </tr>\n",
       "    <tr>\n",
       "      <th>1198</th>\n",
       "      <td>23.736338</td>\n",
       "      <td>30.037117</td>\n",
       "      <td>38.6922</td>\n",
       "      <td>10.022582</td>\n",
       "      <td>136.477662</td>\n",
       "      <td>108.800269</td>\n",
       "    </tr>\n",
       "    <tr>\n",
       "      <th>1199</th>\n",
       "      <td>23.736338</td>\n",
       "      <td>30.037117</td>\n",
       "      <td>38.6922</td>\n",
       "      <td>10.022582</td>\n",
       "      <td>153.531592</td>\n",
       "      <td>122.395697</td>\n",
       "    </tr>\n",
       "  </tbody>\n",
       "</table>\n",
       "<p>1200 rows × 6 columns</p>\n",
       "</div>"
      ],
      "text/plain": [
       "      hpi_value_prediction_LSTM  hpi_real_prediction_LSTM  \\\n",
       "0                     23.736338                 30.037117   \n",
       "1                     23.736338                 30.037117   \n",
       "2                     23.736338                 30.037117   \n",
       "3                     23.736338                 30.037117   \n",
       "4                     23.736338                 30.037117   \n",
       "...                         ...                       ...   \n",
       "1195                  23.736338                 30.037117   \n",
       "1196                  23.736338                 30.037117   \n",
       "1197                  23.736338                 30.037117   \n",
       "1198                  23.736338                 30.037117   \n",
       "1199                  23.736338                 30.037117   \n",
       "\n",
       "      hpi_value_prediction_GRU  hpi_real_prediction_GRU   hpi_value  \\\n",
       "0                      38.6922                10.022582   13.768903   \n",
       "1                      38.6922                10.022582   12.701623   \n",
       "2                      38.6922                10.022582    8.042733   \n",
       "3                      38.6922                10.022582   13.820352   \n",
       "4                      38.6922                10.022582   13.928677   \n",
       "...                        ...                      ...         ...   \n",
       "1195                   38.6922                10.022582  154.218645   \n",
       "1196                   38.6922                10.022582  138.114581   \n",
       "1197                   38.6922                10.022582  131.762084   \n",
       "1198                   38.6922                10.022582  136.477662   \n",
       "1199                   38.6922                10.022582  153.531592   \n",
       "\n",
       "        hpi_real  \n",
       "0      45.531258  \n",
       "1      41.843461  \n",
       "2      26.495494  \n",
       "3      45.528933  \n",
       "4      45.799377  \n",
       "...          ...  \n",
       "1195  123.821410  \n",
       "1196  110.891535  \n",
       "1197  105.791145  \n",
       "1198  108.800269  \n",
       "1199  122.395697  \n",
       "\n",
       "[1200 rows x 6 columns]"
      ]
     },
     "execution_count": 199,
     "metadata": {},
     "output_type": "execute_result"
    }
   ],
   "source": [
    "train_predictions1 = model.predict(X_train)\n",
    "train_predictions2 = model_gru.predict(X_train)\n",
    "train_results = pd.DataFrame(data={'hpi_value_prediction_LSTM': train_predictions1[:, 0],\n",
    "                                   'hpi_real_prediction_LSTM': train_predictions1[:, 1],\n",
    "                                   'hpi_value_prediction_GRU': train_predictions2[:, 0],\n",
    "                                   'hpi_real_prediction_GRU': train_predictions2[:, 1],\n",
    "                                   'hpi_value': y_train[:, 0],\n",
    "                                   'hpi_real': y_train[:, 1]})\n",
    "train_results"
   ]
  },
  {
   "cell_type": "code",
   "execution_count": 201,
   "metadata": {},
   "outputs": [
    {
     "data": {
      "text/plain": [
       "[<matplotlib.lines.Line2D at 0x2de14513190>]"
      ]
     },
     "execution_count": 201,
     "metadata": {},
     "output_type": "execute_result"
    },
    {
     "data": {
      "image/png": "[encoded data removed]",
      "text/plain": [
       "<Figure size 640x480 with 1 Axes>"
      ]
     },
     "metadata": {},
     "output_type": "display_data"
    }
   ],
   "source": [
    "plt.plot(train_results['hpi_value_prediction_LSTM'][:1000])\n",
    "plt.plot(train_results['hpi_real_prediction_LSTM'][:1000])\n",
    "plt.plot(train_results['hpi_value_prediction_GRU'][:1000])\n",
    "plt.plot(train_results['hpi_real_prediction_GRU'][:1000])\n",
    "plt.plot(train_results['hpi_value'][:1000])\n",
    "plt.plot(train_results['hpi_real'][:1000])"
   ]
  },
  {
   "cell_type": "code",
   "execution_count": null,
   "metadata": {},
   "outputs": [],
   "source": []
  },
  {
   "cell_type": "code",
   "execution_count": null,
   "metadata": {},
   "outputs": [],
   "source": []
  },
  {
   "cell_type": "code",
   "execution_count": null,
   "metadata": {},
   "outputs": [],
   "source": []
  },
  {
   "cell_type": "code",
   "execution_count": null,
   "metadata": {},
   "outputs": [],
   "source": []
  },
  {
   "cell_type": "code",
   "execution_count": null,
   "metadata": {},
   "outputs": [],
   "source": []
  },
  {
   "cell_type": "code",
   "execution_count": null,
   "metadata": {},
   "outputs": [],
   "source": []
  },
  {
   "cell_type": "code",
   "execution_count": null,
   "metadata": {},
   "outputs": [],
   "source": []
  },
  {
   "cell_type": "code",
   "execution_count": null,
   "metadata": {},
   "outputs": [],
   "source": [
    "dates = data_processed['month']\n",
    "dates"
   ]
  },
  {
   "cell_type": "code",
   "execution_count": null,
   "metadata": {},
   "outputs": [],
   "source": [
    "# Get training dataframe\n",
    "training_df = data_processed.drop(['month'], axis=1)\n",
    "training_df"
   ]
  },
  {
   "cell_type": "code",
   "execution_count": null,
   "metadata": {},
   "outputs": [],
   "source": [
    "scalar = StandardScaler()\n",
    "scalar = scalar.fit(training_df)\n",
    "training_df_scaled = scalar.transform(training_df)\n",
    "training_df_scaled"
   ]
  },
  {
   "cell_type": "code",
   "execution_count": null,
   "metadata": {},
   "outputs": [],
   "source": [
    "trainX = []\n",
    "trainY = []\n",
    "\n",
    "n_past = 20 # 20 values considered to predict next values\n",
    "n_fut = 100 # 100 values to be predicted based on the 20 previous values\n",
    "\n",
    "# Adding values to x and y lists\n",
    "for i in range(n_past, len(training_df_scaled)-n_fut+1):\n",
    "    trainX.append(training_df_scaled[i-n_past:i, 0:training_df_scaled.shape[1]])\n",
    "    trainY.append(training_df_scaled[i+n_fut-1:i+n_fut, 2:4])\n",
    "\n",
    "# Converting into numpy arrays\n",
    "trainX, trainY = np.array(trainX), np.array(trainY)\n",
    "\n",
    "print(f'trainX shape: {trainX.shape}')\n",
    "print(f'trainY shape: {trainY.shape}')"
   ]
  },
  {
   "cell_type": "code",
   "execution_count": null,
   "metadata": {},
   "outputs": [],
   "source": [
    "model = Sequential()\n",
    "model.add(LSTM(32, activation='relu', input_shape=(trainX.shape[1], trainX.shape[2]), return_sequences=True))\n",
    "model.add(Dropout(0.3))\n",
    "\n",
    "model.add(LSTM(32, activation='relu', return_sequences=True))\n",
    "model.add(Dropout(0.3))\n",
    "\n",
    "model.add(LSTM(32, activation='relu', return_sequences=False))\n",
    "model.add(Dropout(0.3))\n",
    "\n",
    "model.add(Dense(trainY.shape[1]))\n",
    "\n",
    "model.compile(optimizer='adam', loss='mse')\n",
    "model.summary()"
   ]
  },
  {
   "cell_type": "code",
   "execution_count": null,
   "metadata": {},
   "outputs": [],
   "source": [
    "history = model.fit(trainX, trainY, epochs=30, batch_size=25, validation_split=0.2, verbose=1)"
   ]
  },
  {
   "cell_type": "code",
   "execution_count": null,
   "metadata": {},
   "outputs": [],
   "source": [
    "plt.plot(history.history['loss'], label='Training loss')\n",
    "plt.plot(history.history['val_loss'], label='Validation loss')\n",
    "plt.legend()"
   ]
  },
  {
   "cell_type": "code",
   "execution_count": null,
   "metadata": {},
   "outputs": [],
   "source": [
    "test_predictions1 = model.predict(X_test)"
   ]
  },
  {
   "cell_type": "code",
   "execution_count": null,
   "metadata": {},
   "outputs": [],
   "source": [
    "X_test[1][2:4]"
   ]
  },
  {
   "cell_type": "code",
   "execution_count": null,
   "metadata": {},
   "outputs": [],
   "source": [
    "X_test_list = []\n",
    "for i in range(len(X_test)):\n",
    "    X_test_list.append(X_test[i][2:4])\n",
    "    \n",
    "\n",
    "test_predictions_df1 = pd.DataFrame({'X_test':list(X_test_list), \n",
    "                                    'LSTM Prediction':list(test_predictions1)})"
   ]
  },
  {
   "cell_type": "code",
   "execution_count": null,
   "metadata": {},
   "outputs": [],
   "source": [
    "test_predictions_df1"
   ]
  },
  {
   "cell_type": "code",
   "execution_count": null,
   "metadata": {},
   "outputs": [],
   "source": []
  },
  {
   "cell_type": "code",
   "execution_count": null,
   "metadata": {},
   "outputs": [],
   "source": []
  },
  {
   "cell_type": "code",
   "execution_count": null,
   "metadata": {},
   "outputs": [],
   "source": []
  }
 ],
 "metadata": {
  "kernelspec": {
   "display_name": ".venv",
   "language": "python",
   "name": "python3"
  },
  "language_info": {
   "codemirror_mode": {
    "name": "ipython",
    "version": 3
   },
   "file_extension": ".py",
   "mimetype": "text/x-python",
   "name": "python",
   "nbconvert_exporter": "python",
   "pygments_lexer": "ipython3",
   "version": "3.11.5"
  }
 },
 "nbformat": 4,
 "nbformat_minor": 2
}
