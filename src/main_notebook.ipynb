{
 "cells": [
  {
   "cell_type": "markdown",
   "metadata": {},
   "source": [
    "# Imports"
   ]
  },
  {
   "cell_type": "code",
   "execution_count": 1,
   "metadata": {},
   "outputs": [
    {
     "name": "stdout",
     "output_type": "stream",
     "text": [
      "WARNING:tensorflow:From c:\\Users\\jhost\\Desktop\\tfg-informatica\\.venv\\Lib\\site-packages\\keras\\src\\losses.py:2976: The name tf.losses.sparse_softmax_cross_entropy is deprecated. Please use tf.compat.v1.losses.sparse_softmax_cross_entropy instead.\n",
      "\n"
     ]
    }
   ],
   "source": [
    "import db_connection as db\n",
    "import numpy as np\n",
    "import pandas as pd\n",
    "from pandas import DataFrame\n",
    "from google.cloud import bigquery\n",
    "from keras.models import Sequential\n",
    "from keras.layers import LSTM, GRU, Dense, InputLayer\n",
    "from keras.optimizers import Adam\n",
    "from keras.metrics import RootMeanSquaredError\n",
    "from matplotlib import pyplot as plt"
   ]
  },
  {
   "cell_type": "markdown",
   "metadata": {},
   "source": [
    "It is important to create a \"settings.ini\" file that will contain the necessary parameters (database config parameters, in this case) for the \"cfg.py\" script. The format of this file will be:\n",
    "<br>\n",
    "<br>\n",
    "[settings]<br>\n",
    "DB_PASS=example_pass<br>\n",
    "DB_USER=postgres<br>\n",
    "DB_NAME=postgres<br>\n",
    "DB_HOST=127.0.0.1<br>\n",
    "DB_PORT=5432<br>\n",
    "<br>\n",
    "This is the configuration that a local postgreSQL database needs in order to create a connection with python 3. Note that this is a standard configuration and details may vary depending on the configuration of your own database."
   ]
  },
  {
   "cell_type": "markdown",
   "metadata": {},
   "source": [
    "# Functions definition"
   ]
  },
  {
   "cell_type": "markdown",
   "metadata": {},
   "source": [
    "## PHASE 1: ETL"
   ]
  },
  {
   "cell_type": "markdown",
   "metadata": {},
   "source": [
    "First, we need to set the client that will be used to get data from BigQuery. In this case, we created a .json key from our Google Cloud project and downloaded it to use it in our \"src/\" repository folder:"
   ]
  },
  {
   "cell_type": "code",
   "execution_count": 2,
   "metadata": {},
   "outputs": [],
   "source": [
    "# Google Cloud BigQuery client for extracting raw data\n",
    "client = bigquery.Client()"
   ]
  },
  {
   "cell_type": "markdown",
   "metadata": {},
   "source": [
    "Next, we will define our 3 steps for data gathering:<br>\n",
    "\n",
    "- <strong>extract</strong>: step that contains the query which extracts raw information from our chosen dataset.\n",
    "- <strong>transform</strong>: step that cleans the retrieved data from previous step. In this case, 5 columns that the own code describes.\n",
    "- <strong>load</strong>: step that loads the clean data in our database. <em>Note</em> that between this step and the previous one we will train our neural network in order to save our prediction."
   ]
  },
  {
   "cell_type": "code",
   "execution_count": 3,
   "metadata": {},
   "outputs": [],
   "source": [
    "def extract():\n",
    "    query = \"SELECT * FROM `housecanary-com.sample.zip_ts` LIMIT 2000\"\n",
    "\n",
    "    query_job = client.query(query)\n",
    "\n",
    "    return query_job\n",
    "\n",
    "\n",
    "def transform(data_raw):\n",
    "    '''\n",
    "    columns that will be saved (from 'zip_ts' table from dataset ):\n",
    "        - zip (string): 5 digit postal code\n",
    "        - msa (string): 5 digit Metropolitan Statistical Area code\n",
    "        - month (date): timeseries date\n",
    "        - hpi_value (float): nominal housing price index\n",
    "        - hpi_real (float): real housing price index after adjusting nominal hpi for inflation as measured by the CPI\n",
    "    '''\n",
    "\n",
    "    # Selecting desired columns and saving them in a list for filtering next\n",
    "    selected_columns = ['zip', 'msa', 'month', 'hpi_value', 'hpi_real']\n",
    "\n",
    "    # Getting DataFrame from previous query result\n",
    "    df_clean = data_raw.to_dataframe()\n",
    "\n",
    "    # Filtering columns given selected columns list\n",
    "    df_clean: DataFrame = df_clean.loc[:, selected_columns]\n",
    "\n",
    "    # Converting zip and msa columns to float values, month to datetime\n",
    "    df_clean['zip'] = df_clean['zip'].astype(float)\n",
    "    df_clean['msa'] = df_clean['msa'].astype(float)\n",
    "    df_clean['month'] = pd.to_datetime(df_clean['month'])\n",
    "\n",
    "    # Cleaning data from NaN values in hpi_value and hpi_real\n",
    "    df_clean = df_clean[df_clean.hpi_value.notnull()]\n",
    "    df_clean = df_clean[df_clean.hpi_real.notnull()]\n",
    "\n",
    "    return df_clean\n",
    "\n",
    "\n",
    "def load(df, table_name):\n",
    "    # Table and Schema\n",
    "    schema_name = \"public\"\n",
    "    \n",
    "    db.insert_rows(df, table_name, schema_name)"
   ]
  },
  {
   "cell_type": "markdown",
   "metadata": {},
   "source": [
    "## PHASE 2: AI training"
   ]
  },
  {
   "cell_type": "markdown",
   "metadata": {},
   "source": [
    "In this phase, we will create a tensorflow model that will use the retrieved and cleaned data from previous our ETL phase."
   ]
  },
  {
   "cell_type": "code",
   "execution_count": 4,
   "metadata": {},
   "outputs": [],
   "source": [
    "# Retrieving raw data from Google Cloud Platform dataset (House-canary)\n",
    "data_raw = extract()\n",
    "\n",
    "# Transforming raw data into processed data for database\n",
    "data_processed = transform(data_raw)"
   ]
  },
  {
   "cell_type": "code",
   "execution_count": 5,
   "metadata": {},
   "outputs": [],
   "source": [
    "# Loading dataset into our raw_data table from our PostgreSQL Database\n",
    "load(data_processed, table_name = \"zip_ts_raw\")"
   ]
  },
  {
   "cell_type": "code",
   "execution_count": 8,
   "metadata": {},
   "outputs": [],
   "source": [
    "# Sort values by its date and setting the column as index\n",
    "data_processed = data_processed.sort_values(by=['month'])\n",
    "data_processed.set_index('month', drop=False, inplace=True)"
   ]
  },
  {
   "cell_type": "code",
   "execution_count": 9,
   "metadata": {},
   "outputs": [
    {
     "data": {
      "text/plain": [
       "month\n",
       "1975-01-01   1975-01-01\n",
       "1975-02-01   1975-02-01\n",
       "1975-03-01   1975-03-01\n",
       "1975-04-01   1975-04-01\n",
       "1975-05-01   1975-05-01\n",
       "                ...    \n",
       "2021-09-01   2021-09-01\n",
       "2021-10-01   2021-10-01\n",
       "2021-11-01   2021-11-01\n",
       "2021-12-01   2021-12-01\n",
       "2022-01-01   2022-01-01\n",
       "Name: month, Length: 565, dtype: datetime64[ns]"
      ]
     },
     "execution_count": 9,
     "metadata": {},
     "output_type": "execute_result"
    }
   ],
   "source": [
    "# Getting df dates for future indexing\n",
    "df_dates = data_processed['month'].drop_duplicates()\n",
    "df_dates"
   ]
  },
  {
   "cell_type": "code",
   "execution_count": 10,
   "metadata": {},
   "outputs": [
    {
     "data": {
      "text/html": [
       "<div>\n",
       "<style scoped>\n",
       "    .dataframe tbody tr th:only-of-type {\n",
       "        vertical-align: middle;\n",
       "    }\n",
       "\n",
       "    .dataframe tbody tr th {\n",
       "        vertical-align: top;\n",
       "    }\n",
       "\n",
       "    .dataframe thead th {\n",
       "        text-align: right;\n",
       "    }\n",
       "</style>\n",
       "<table border=\"1\" class=\"dataframe\">\n",
       "  <thead>\n",
       "    <tr style=\"text-align: right;\">\n",
       "      <th></th>\n",
       "      <th>zip</th>\n",
       "      <th>msa</th>\n",
       "      <th>month</th>\n",
       "      <th>hpi_value</th>\n",
       "      <th>hpi_real</th>\n",
       "    </tr>\n",
       "    <tr>\n",
       "      <th>month</th>\n",
       "      <th></th>\n",
       "      <th></th>\n",
       "      <th></th>\n",
       "      <th></th>\n",
       "      <th></th>\n",
       "    </tr>\n",
       "  </thead>\n",
       "  <tbody>\n",
       "    <tr>\n",
       "      <th>1975-01-01</th>\n",
       "      <td>94598.0</td>\n",
       "      <td>41860.0</td>\n",
       "      <td>1975-01-01</td>\n",
       "      <td>12.366224</td>\n",
       "      <td>41.283799</td>\n",
       "    </tr>\n",
       "    <tr>\n",
       "      <th>1975-02-01</th>\n",
       "      <td>94114.0</td>\n",
       "      <td>41860.0</td>\n",
       "      <td>1975-02-01</td>\n",
       "      <td>7.942476</td>\n",
       "      <td>26.364190</td>\n",
       "    </tr>\n",
       "    <tr>\n",
       "      <th>1975-02-01</th>\n",
       "      <td>94598.0</td>\n",
       "      <td>41860.0</td>\n",
       "      <td>1975-02-01</td>\n",
       "      <td>12.394297</td>\n",
       "      <td>41.141526</td>\n",
       "    </tr>\n",
       "    <tr>\n",
       "      <th>1975-03-01</th>\n",
       "      <td>94114.0</td>\n",
       "      <td>41860.0</td>\n",
       "      <td>1975-03-01</td>\n",
       "      <td>7.945606</td>\n",
       "      <td>26.274676</td>\n",
       "    </tr>\n",
       "    <tr>\n",
       "      <th>1975-03-01</th>\n",
       "      <td>94598.0</td>\n",
       "      <td>41860.0</td>\n",
       "      <td>1975-03-01</td>\n",
       "      <td>12.506154</td>\n",
       "      <td>41.355578</td>\n",
       "    </tr>\n",
       "    <tr>\n",
       "      <th>...</th>\n",
       "      <td>...</td>\n",
       "      <td>...</td>\n",
       "      <td>...</td>\n",
       "      <td>...</td>\n",
       "      <td>...</td>\n",
       "    </tr>\n",
       "    <tr>\n",
       "      <th>2021-12-01</th>\n",
       "      <td>94598.0</td>\n",
       "      <td>41860.0</td>\n",
       "      <td>2021-12-01</td>\n",
       "      <td>279.995433</td>\n",
       "      <td>181.742295</td>\n",
       "    </tr>\n",
       "    <tr>\n",
       "      <th>2021-12-01</th>\n",
       "      <td>94102.0</td>\n",
       "      <td>41860.0</td>\n",
       "      <td>2021-12-01</td>\n",
       "      <td>342.150567</td>\n",
       "      <td>222.086584</td>\n",
       "    </tr>\n",
       "    <tr>\n",
       "      <th>2022-01-01</th>\n",
       "      <td>94114.0</td>\n",
       "      <td>41860.0</td>\n",
       "      <td>2022-01-01</td>\n",
       "      <td>249.625375</td>\n",
       "      <td>161.749015</td>\n",
       "    </tr>\n",
       "    <tr>\n",
       "      <th>2022-01-01</th>\n",
       "      <td>94102.0</td>\n",
       "      <td>41860.0</td>\n",
       "      <td>2022-01-01</td>\n",
       "      <td>343.032478</td>\n",
       "      <td>222.273739</td>\n",
       "    </tr>\n",
       "    <tr>\n",
       "      <th>2022-01-01</th>\n",
       "      <td>94598.0</td>\n",
       "      <td>41860.0</td>\n",
       "      <td>2022-01-01</td>\n",
       "      <td>280.790967</td>\n",
       "      <td>181.943292</td>\n",
       "    </tr>\n",
       "  </tbody>\n",
       "</table>\n",
       "<p>1692 rows × 5 columns</p>\n",
       "</div>"
      ],
      "text/plain": [
       "                zip      msa      month   hpi_value    hpi_real\n",
       "month                                                          \n",
       "1975-01-01  94598.0  41860.0 1975-01-01   12.366224   41.283799\n",
       "1975-02-01  94114.0  41860.0 1975-02-01    7.942476   26.364190\n",
       "1975-02-01  94598.0  41860.0 1975-02-01   12.394297   41.141526\n",
       "1975-03-01  94114.0  41860.0 1975-03-01    7.945606   26.274676\n",
       "1975-03-01  94598.0  41860.0 1975-03-01   12.506154   41.355578\n",
       "...             ...      ...        ...         ...         ...\n",
       "2021-12-01  94598.0  41860.0 2021-12-01  279.995433  181.742295\n",
       "2021-12-01  94102.0  41860.0 2021-12-01  342.150567  222.086584\n",
       "2022-01-01  94114.0  41860.0 2022-01-01  249.625375  161.749015\n",
       "2022-01-01  94102.0  41860.0 2022-01-01  343.032478  222.273739\n",
       "2022-01-01  94598.0  41860.0 2022-01-01  280.790967  181.943292\n",
       "\n",
       "[1692 rows x 5 columns]"
      ]
     },
     "execution_count": 10,
     "metadata": {},
     "output_type": "execute_result"
    }
   ],
   "source": [
    "# Showing dataframe\n",
    "data_processed"
   ]
  },
  {
   "cell_type": "code",
   "execution_count": 11,
   "metadata": {},
   "outputs": [
    {
     "data": {
      "text/plain": [
       "((1687, 5, 2), (1687, 2))"
      ]
     },
     "execution_count": 11,
     "metadata": {},
     "output_type": "execute_result"
    }
   ],
   "source": [
    "# Divide data in features (X) and labels (y)\n",
    "# In this section, we will predict the 6th value per 5 values\n",
    "# Example: input [1,2,3,4,5] -> output [6]\n",
    "WINDOW_SIZE = 5\n",
    "\n",
    "# Here, if I use this commented line instead of the next one, the training loss will be much worse (I suspect it is because they're constants)\n",
    "#df_as_np_input = data_processed.drop(['month'], axis=1).to_numpy()\n",
    "df_as_np_input = data_processed.drop(['month', 'zip', 'msa'], axis=1).to_numpy()\n",
    "\n",
    "df_as_np_output = data_processed[['hpi_value', 'hpi_real']].to_numpy()\n",
    "\n",
    "X = []\n",
    "y = []\n",
    "\n",
    "for i in range(len(df_as_np_input)-WINDOW_SIZE):\n",
    "    row = [a for a in df_as_np_input[i:i+5]]\n",
    "    X.append(row)\n",
    "\n",
    "    label = df_as_np_output[i+5]\n",
    "    y.append(label)\n",
    "\n",
    "X = np.array(X)\n",
    "y = np.array(y)\n",
    "\n",
    "X.shape, y.shape"
   ]
  },
  {
   "cell_type": "code",
   "execution_count": 12,
   "metadata": {},
   "outputs": [
    {
     "data": {
      "text/plain": [
       "((1200, 5, 2), (1200, 2), (200, 5, 2), (200, 2), (287, 5, 2), (287, 2))"
      ]
     },
     "execution_count": 12,
     "metadata": {},
     "output_type": "execute_result"
    }
   ],
   "source": [
    "### Divide data in test and train sets\n",
    "\n",
    "# Training data\n",
    "X_train, y_train = X[:1200], y[:1200]\n",
    "\n",
    "# Validation data\n",
    "X_val, y_val = X[1200:1400], y[1200:1400]\n",
    "\n",
    "# Test data\n",
    "X_test, y_test = X[1400:], y[1400:]\n",
    "\n",
    "# Showing values\n",
    "X_train.shape, y_train.shape, X_val.shape, y_val.shape, X_test.shape, y_test.shape"
   ]
  },
  {
   "cell_type": "code",
   "execution_count": 13,
   "metadata": {},
   "outputs": [
    {
     "name": "stdout",
     "output_type": "stream",
     "text": [
      "WARNING:tensorflow:From c:\\Users\\jhost\\Desktop\\tfg-informatica\\.venv\\Lib\\site-packages\\keras\\src\\backend.py:873: The name tf.get_default_graph is deprecated. Please use tf.compat.v1.get_default_graph instead.\n",
      "\n"
     ]
    }
   ],
   "source": [
    "# Define neural network architecture (GRU layer)\n",
    "model_gru = Sequential()\n",
    "model_gru.add(InputLayer(input_shape=(X_train.shape[1], X_train.shape[2])))\n",
    "model_gru.add(GRU(64))\n",
    "model_gru.add(Dense(8, activation='relu'))\n",
    "model_gru.add(Dense(2, activation='linear'))\n",
    "\n",
    "# Define neural network architecture (LSTM layer)\n",
    "model = Sequential([\n",
    "    InputLayer(input_shape=(X_train.shape[1], X_train.shape[2])), # Input shape as parameter\n",
    "    LSTM(64),\n",
    "    Dense(8, activation='relu'),\n",
    "    Dense(2, activation='linear')  # 2 output neurons to predict 2 columns\n",
    "])\n",
    "\n",
    "# Compile model\n",
    "model.compile(optimizer=Adam(learning_rate=0.0005), loss='mse', metrics=[RootMeanSquaredError()])\n",
    "model_gru.compile(optimizer=Adam(learning_rate=0.0005), loss='mse', metrics=[RootMeanSquaredError()])"
   ]
  },
  {
   "cell_type": "code",
   "execution_count": 14,
   "metadata": {},
   "outputs": [
    {
     "name": "stdout",
     "output_type": "stream",
     "text": [
      "Epoch 1/30\n",
      "WARNING:tensorflow:From c:\\Users\\jhost\\Desktop\\tfg-informatica\\.venv\\Lib\\site-packages\\keras\\src\\utils\\tf_utils.py:492: The name tf.ragged.RaggedTensorValue is deprecated. Please use tf.compat.v1.ragged.RaggedTensorValue instead.\n",
      "\n",
      "38/38 [==============================] - 1s 9ms/step - loss: 6892.8369 - root_mean_squared_error: 83.0231 - val_loss: 13966.8535 - val_root_mean_squared_error: 118.1814\n",
      "Epoch 2/30\n",
      "38/38 [==============================] - 0s 2ms/step - loss: 6641.1963 - root_mean_squared_error: 81.4935 - val_loss: 13397.4502 - val_root_mean_squared_error: 115.7474\n",
      "Epoch 3/30\n",
      "38/38 [==============================] - 0s 2ms/step - loss: 6214.1152 - root_mean_squared_error: 78.8297 - val_loss: 12620.2822 - val_root_mean_squared_error: 112.3400\n",
      "Epoch 4/30\n",
      "38/38 [==============================] - 0s 2ms/step - loss: 5600.3574 - root_mean_squared_error: 74.8355 - val_loss: 11578.2529 - val_root_mean_squared_error: 107.6023\n",
      "Epoch 5/30\n",
      "38/38 [==============================] - 0s 2ms/step - loss: 5183.1348 - root_mean_squared_error: 71.9940 - val_loss: 10934.2783 - val_root_mean_squared_error: 104.5671\n",
      "Epoch 6/30\n",
      "38/38 [==============================] - 0s 2ms/step - loss: 4817.4937 - root_mean_squared_error: 69.4082 - val_loss: 10296.9941 - val_root_mean_squared_error: 101.4741\n",
      "Epoch 7/30\n",
      "38/38 [==============================] - 0s 2ms/step - loss: 4434.0986 - root_mean_squared_error: 66.5890 - val_loss: 9575.1904 - val_root_mean_squared_error: 97.8529\n",
      "Epoch 8/30\n",
      "38/38 [==============================] - 0s 2ms/step - loss: 4043.3174 - root_mean_squared_error: 63.5871 - val_loss: 8886.8291 - val_root_mean_squared_error: 94.2700\n",
      "Epoch 9/30\n",
      "38/38 [==============================] - 0s 2ms/step - loss: 3681.6853 - root_mean_squared_error: 60.6769 - val_loss: 8200.8535 - val_root_mean_squared_error: 90.5586\n",
      "Epoch 10/30\n",
      "38/38 [==============================] - 0s 2ms/step - loss: 3359.1868 - root_mean_squared_error: 57.9585 - val_loss: 7580.6001 - val_root_mean_squared_error: 87.0666\n",
      "Epoch 11/30\n",
      "38/38 [==============================] - 0s 2ms/step - loss: 3067.3914 - root_mean_squared_error: 55.3840 - val_loss: 6991.0405 - val_root_mean_squared_error: 83.6124\n",
      "Epoch 12/30\n",
      "38/38 [==============================] - 0s 2ms/step - loss: 2804.1960 - root_mean_squared_error: 52.9547 - val_loss: 6438.2388 - val_root_mean_squared_error: 80.2386\n",
      "Epoch 13/30\n",
      "38/38 [==============================] - 0s 2ms/step - loss: 2563.7607 - root_mean_squared_error: 50.6336 - val_loss: 5912.9419 - val_root_mean_squared_error: 76.8957\n",
      "Epoch 14/30\n",
      "38/38 [==============================] - 0s 2ms/step - loss: 2340.1184 - root_mean_squared_error: 48.3748 - val_loss: 5415.0127 - val_root_mean_squared_error: 73.5868\n",
      "Epoch 15/30\n",
      "38/38 [==============================] - 0s 2ms/step - loss: 2126.2368 - root_mean_squared_error: 46.1111 - val_loss: 4953.9277 - val_root_mean_squared_error: 70.3841\n",
      "Epoch 16/30\n",
      "38/38 [==============================] - 0s 2ms/step - loss: 1928.4457 - root_mean_squared_error: 43.9141 - val_loss: 4494.3047 - val_root_mean_squared_error: 67.0396\n",
      "Epoch 17/30\n",
      "38/38 [==============================] - 0s 2ms/step - loss: 1750.3419 - root_mean_squared_error: 41.8371 - val_loss: 4075.4956 - val_root_mean_squared_error: 63.8396\n",
      "Epoch 18/30\n",
      "38/38 [==============================] - 0s 2ms/step - loss: 1593.7031 - root_mean_squared_error: 39.9212 - val_loss: 3688.8389 - val_root_mean_squared_error: 60.7358\n",
      "Epoch 19/30\n",
      "38/38 [==============================] - 0s 2ms/step - loss: 1454.8276 - root_mean_squared_error: 38.1422 - val_loss: 3334.3323 - val_root_mean_squared_error: 57.7437\n",
      "Epoch 20/30\n",
      "38/38 [==============================] - 0s 2ms/step - loss: 1330.1958 - root_mean_squared_error: 36.4719 - val_loss: 3005.7756 - val_root_mean_squared_error: 54.8250\n",
      "Epoch 21/30\n",
      "38/38 [==============================] - 0s 2ms/step - loss: 1215.0510 - root_mean_squared_error: 34.8576 - val_loss: 2908.7571 - val_root_mean_squared_error: 53.9329\n",
      "Epoch 22/30\n",
      "38/38 [==============================] - 0s 2ms/step - loss: 1109.0087 - root_mean_squared_error: 33.3018 - val_loss: 2462.5686 - val_root_mean_squared_error: 49.6243\n",
      "Epoch 23/30\n",
      "38/38 [==============================] - 0s 2ms/step - loss: 1011.3842 - root_mean_squared_error: 31.8023 - val_loss: 2184.2859 - val_root_mean_squared_error: 46.7363\n",
      "Epoch 24/30\n",
      "38/38 [==============================] - 0s 2ms/step - loss: 921.8623 - root_mean_squared_error: 30.3622 - val_loss: 1928.1997 - val_root_mean_squared_error: 43.9113\n",
      "Epoch 25/30\n",
      "38/38 [==============================] - 0s 2ms/step - loss: 837.4268 - root_mean_squared_error: 28.9383 - val_loss: 1786.8900 - val_root_mean_squared_error: 42.2716\n",
      "Epoch 26/30\n",
      "38/38 [==============================] - 0s 2ms/step - loss: 761.5530 - root_mean_squared_error: 27.5962 - val_loss: 1522.7532 - val_root_mean_squared_error: 39.0225\n",
      "Epoch 27/30\n",
      "38/38 [==============================] - 0s 2ms/step - loss: 691.4562 - root_mean_squared_error: 26.2956 - val_loss: 1355.6830 - val_root_mean_squared_error: 36.8196\n",
      "Epoch 28/30\n",
      "38/38 [==============================] - 0s 2ms/step - loss: 625.2847 - root_mean_squared_error: 25.0057 - val_loss: 1204.3251 - val_root_mean_squared_error: 34.7034\n",
      "Epoch 29/30\n",
      "38/38 [==============================] - 0s 2ms/step - loss: 566.9802 - root_mean_squared_error: 23.8113 - val_loss: 1104.2317 - val_root_mean_squared_error: 33.2300\n",
      "Epoch 30/30\n",
      "38/38 [==============================] - 0s 2ms/step - loss: 512.9165 - root_mean_squared_error: 22.6477 - val_loss: 974.9771 - val_root_mean_squared_error: 31.2246\n",
      "Epoch 1/30\n",
      "38/38 [==============================] - 1s 8ms/step - loss: 6690.5410 - root_mean_squared_error: 81.7957 - val_loss: 13559.1562 - val_root_mean_squared_error: 116.4438\n",
      "Epoch 2/30\n",
      "38/38 [==============================] - 0s 2ms/step - loss: 6351.8970 - root_mean_squared_error: 79.6988 - val_loss: 12881.8877 - val_root_mean_squared_error: 113.4984\n",
      "Epoch 3/30\n",
      "38/38 [==============================] - 0s 2ms/step - loss: 5902.0513 - root_mean_squared_error: 76.8248 - val_loss: 12177.8359 - val_root_mean_squared_error: 110.3532\n",
      "Epoch 4/30\n",
      "38/38 [==============================] - 0s 2ms/step - loss: 5597.3335 - root_mean_squared_error: 74.8153 - val_loss: 11664.3848 - val_root_mean_squared_error: 108.0018\n",
      "Epoch 5/30\n",
      "38/38 [==============================] - 0s 2ms/step - loss: 5270.0684 - root_mean_squared_error: 72.5952 - val_loss: 10982.7275 - val_root_mean_squared_error: 104.7985\n",
      "Epoch 6/30\n",
      "38/38 [==============================] - 0s 2ms/step - loss: 4912.1143 - root_mean_squared_error: 70.0865 - val_loss: 10427.6201 - val_root_mean_squared_error: 102.1157\n",
      "Epoch 7/30\n",
      "38/38 [==============================] - 0s 2ms/step - loss: 4632.1191 - root_mean_squared_error: 68.0597 - val_loss: 9933.8604 - val_root_mean_squared_error: 99.6688\n",
      "Epoch 8/30\n",
      "38/38 [==============================] - 0s 2ms/step - loss: 4294.0459 - root_mean_squared_error: 65.5290 - val_loss: 9152.5029 - val_root_mean_squared_error: 95.6687\n",
      "Epoch 9/30\n",
      "38/38 [==============================] - 0s 2ms/step - loss: 3952.4922 - root_mean_squared_error: 62.8689 - val_loss: 8598.2070 - val_root_mean_squared_error: 92.7265\n",
      "Epoch 10/30\n",
      "38/38 [==============================] - 0s 2ms/step - loss: 3648.8000 - root_mean_squared_error: 60.4053 - val_loss: 7970.1968 - val_root_mean_squared_error: 89.2760\n",
      "Epoch 11/30\n",
      "38/38 [==============================] - 0s 2ms/step - loss: 3371.2087 - root_mean_squared_error: 58.0621 - val_loss: 7436.0327 - val_root_mean_squared_error: 86.2324\n",
      "Epoch 12/30\n",
      "38/38 [==============================] - 0s 2ms/step - loss: 3132.7537 - root_mean_squared_error: 55.9710 - val_loss: 6946.0361 - val_root_mean_squared_error: 83.3429\n",
      "Epoch 13/30\n",
      "38/38 [==============================] - 0s 2ms/step - loss: 2910.4338 - root_mean_squared_error: 53.9484 - val_loss: 6477.7974 - val_root_mean_squared_error: 80.4848\n",
      "Epoch 14/30\n",
      "38/38 [==============================] - 0s 2ms/step - loss: 2704.0381 - root_mean_squared_error: 52.0004 - val_loss: 6035.1348 - val_root_mean_squared_error: 77.6861\n",
      "Epoch 15/30\n",
      "38/38 [==============================] - 0s 2ms/step - loss: 2515.4390 - root_mean_squared_error: 50.1542 - val_loss: 5601.6660 - val_root_mean_squared_error: 74.8443\n",
      "Epoch 16/30\n",
      "38/38 [==============================] - 0s 2ms/step - loss: 2340.2832 - root_mean_squared_error: 48.3765 - val_loss: 5191.9146 - val_root_mean_squared_error: 72.0549\n",
      "Epoch 17/30\n",
      "38/38 [==============================] - 0s 2ms/step - loss: 2175.9255 - root_mean_squared_error: 46.6468 - val_loss: 4816.3379 - val_root_mean_squared_error: 69.3998\n",
      "Epoch 18/30\n",
      "38/38 [==============================] - 0s 2ms/step - loss: 2025.7496 - root_mean_squared_error: 45.0083 - val_loss: 4453.7568 - val_root_mean_squared_error: 66.7365\n",
      "Epoch 19/30\n",
      "38/38 [==============================] - 0s 2ms/step - loss: 1888.0581 - root_mean_squared_error: 43.4518 - val_loss: 4111.2822 - val_root_mean_squared_error: 64.1193\n",
      "Epoch 20/30\n",
      "38/38 [==============================] - 0s 2ms/step - loss: 1761.4142 - root_mean_squared_error: 41.9692 - val_loss: 3786.4077 - val_root_mean_squared_error: 61.5338\n",
      "Epoch 21/30\n",
      "38/38 [==============================] - 0s 2ms/step - loss: 1646.4762 - root_mean_squared_error: 40.5768 - val_loss: 3492.2319 - val_root_mean_squared_error: 59.0951\n",
      "Epoch 22/30\n",
      "38/38 [==============================] - 0s 2ms/step - loss: 1543.7150 - root_mean_squared_error: 39.2901 - val_loss: 3216.3423 - val_root_mean_squared_error: 56.7128\n",
      "Epoch 23/30\n",
      "38/38 [==============================] - 0s 2ms/step - loss: 1450.1738 - root_mean_squared_error: 38.0811 - val_loss: 2970.6238 - val_root_mean_squared_error: 54.5034\n",
      "Epoch 24/30\n",
      "38/38 [==============================] - 0s 2ms/step - loss: 1362.9852 - root_mean_squared_error: 36.9186 - val_loss: 2735.4524 - val_root_mean_squared_error: 52.3016\n",
      "Epoch 25/30\n",
      "38/38 [==============================] - 0s 2ms/step - loss: 1279.9683 - root_mean_squared_error: 35.7766 - val_loss: 2529.7849 - val_root_mean_squared_error: 50.2970\n",
      "Epoch 26/30\n",
      "38/38 [==============================] - 0s 2ms/step - loss: 1198.4767 - root_mean_squared_error: 34.6190 - val_loss: 2367.6763 - val_root_mean_squared_error: 48.6588\n",
      "Epoch 27/30\n",
      "38/38 [==============================] - 0s 2ms/step - loss: 1122.2223 - root_mean_squared_error: 33.4996 - val_loss: 2128.3948 - val_root_mean_squared_error: 46.1345\n",
      "Epoch 28/30\n",
      "38/38 [==============================] - 0s 2ms/step - loss: 1048.6179 - root_mean_squared_error: 32.3824 - val_loss: 1946.4047 - val_root_mean_squared_error: 44.1181\n",
      "Epoch 29/30\n",
      "38/38 [==============================] - 0s 2ms/step - loss: 979.4728 - root_mean_squared_error: 31.2965 - val_loss: 1776.3839 - val_root_mean_squared_error: 42.1472\n",
      "Epoch 30/30\n",
      "38/38 [==============================] - 0s 2ms/step - loss: 914.3137 - root_mean_squared_error: 30.2376 - val_loss: 1643.6104 - val_root_mean_squared_error: 40.5415\n"
     ]
    }
   ],
   "source": [
    "# Train model\n",
    "history = model.fit(X_train, y_train, epochs=30, validation_data=(X_val, y_val))\n",
    "history_gru = model_gru.fit(X_train, y_train, epochs=30, validation_data=(X_val, y_val))"
   ]
  },
  {
   "cell_type": "code",
   "execution_count": 15,
   "metadata": {},
   "outputs": [
    {
     "data": {
      "text/plain": [
       "<matplotlib.legend.Legend at 0x1dbeb1cd050>"
      ]
     },
     "execution_count": 15,
     "metadata": {},
     "output_type": "execute_result"
    },
    {
     "data": {
      "image/png": "[encoded data removed]",
      "text/plain": [
       "<Figure size 640x480 with 1 Axes>"
      ]
     },
     "metadata": {},
     "output_type": "display_data"
    }
   ],
   "source": [
    "# Showing LSTM model loss in plot\n",
    "plt.plot(history.history['loss'][20:30], label='Training loss')\n",
    "plt.plot(history.history['val_loss'][20:30], label='Validation loss')\n",
    "plt.legend()"
   ]
  },
  {
   "cell_type": "code",
   "execution_count": 16,
   "metadata": {},
   "outputs": [
    {
     "data": {
      "text/plain": [
       "<matplotlib.legend.Legend at 0x1dbeb29d050>"
      ]
     },
     "execution_count": 16,
     "metadata": {},
     "output_type": "execute_result"
    },
    {
     "data": {
      "image/png": "[encoded data removed]",
      "text/plain": [
       "<Figure size 640x480 with 1 Axes>"
      ]
     },
     "metadata": {},
     "output_type": "display_data"
    }
   ],
   "source": [
    "# Showing GRU model loss in plot\n",
    "plt.plot(history_gru.history['loss'][20:30], label='Training loss')\n",
    "plt.plot(history_gru.history['val_loss'][20:30], label='Validation loss')\n",
    "plt.legend()"
   ]
  },
  {
   "cell_type": "code",
   "execution_count": 17,
   "metadata": {},
   "outputs": [
    {
     "name": "stdout",
     "output_type": "stream",
     "text": [
      "38/38 [==============================] - 0s 793us/step\n",
      "38/38 [==============================] - 0s 773us/step\n"
     ]
    },
    {
     "data": {
      "text/html": [
       "<div>\n",
       "<style scoped>\n",
       "    .dataframe tbody tr th:only-of-type {\n",
       "        vertical-align: middle;\n",
       "    }\n",
       "\n",
       "    .dataframe tbody tr th {\n",
       "        vertical-align: top;\n",
       "    }\n",
       "\n",
       "    .dataframe thead th {\n",
       "        text-align: right;\n",
       "    }\n",
       "</style>\n",
       "<table border=\"1\" class=\"dataframe\">\n",
       "  <thead>\n",
       "    <tr style=\"text-align: right;\">\n",
       "      <th></th>\n",
       "      <th>hpi_value_prediction_LSTM</th>\n",
       "      <th>hpi_real_prediction_LSTM</th>\n",
       "      <th>hpi_value_prediction_GRU</th>\n",
       "      <th>hpi_real_prediction_GRU</th>\n",
       "      <th>hpi_value</th>\n",
       "      <th>hpi_real</th>\n",
       "    </tr>\n",
       "  </thead>\n",
       "  <tbody>\n",
       "    <tr>\n",
       "      <th>0</th>\n",
       "      <td>15.490872</td>\n",
       "      <td>40.672771</td>\n",
       "      <td>24.603542</td>\n",
       "      <td>22.621391</td>\n",
       "      <td>13.768903</td>\n",
       "      <td>45.531258</td>\n",
       "    </tr>\n",
       "    <tr>\n",
       "      <th>1</th>\n",
       "      <td>15.423675</td>\n",
       "      <td>40.619061</td>\n",
       "      <td>25.038855</td>\n",
       "      <td>23.018486</td>\n",
       "      <td>12.701623</td>\n",
       "      <td>41.843461</td>\n",
       "    </tr>\n",
       "    <tr>\n",
       "      <th>2</th>\n",
       "      <td>15.319974</td>\n",
       "      <td>40.529373</td>\n",
       "      <td>24.697384</td>\n",
       "      <td>22.706278</td>\n",
       "      <td>8.042733</td>\n",
       "      <td>26.495494</td>\n",
       "    </tr>\n",
       "    <tr>\n",
       "      <th>3</th>\n",
       "      <td>16.419979</td>\n",
       "      <td>41.372417</td>\n",
       "      <td>28.338842</td>\n",
       "      <td>26.025887</td>\n",
       "      <td>13.820352</td>\n",
       "      <td>45.528933</td>\n",
       "    </tr>\n",
       "    <tr>\n",
       "      <th>4</th>\n",
       "      <td>15.907446</td>\n",
       "      <td>41.075817</td>\n",
       "      <td>25.460361</td>\n",
       "      <td>23.402369</td>\n",
       "      <td>13.928677</td>\n",
       "      <td>45.799377</td>\n",
       "    </tr>\n",
       "    <tr>\n",
       "      <th>...</th>\n",
       "      <td>...</td>\n",
       "      <td>...</td>\n",
       "      <td>...</td>\n",
       "      <td>...</td>\n",
       "      <td>...</td>\n",
       "      <td>...</td>\n",
       "    </tr>\n",
       "    <tr>\n",
       "      <th>1195</th>\n",
       "      <td>102.073891</td>\n",
       "      <td>97.062820</td>\n",
       "      <td>89.645721</td>\n",
       "      <td>81.738518</td>\n",
       "      <td>154.218645</td>\n",
       "      <td>123.821410</td>\n",
       "    </tr>\n",
       "    <tr>\n",
       "      <th>1196</th>\n",
       "      <td>102.080711</td>\n",
       "      <td>97.068741</td>\n",
       "      <td>89.675987</td>\n",
       "      <td>81.766022</td>\n",
       "      <td>138.114581</td>\n",
       "      <td>110.891535</td>\n",
       "    </tr>\n",
       "    <tr>\n",
       "      <th>1197</th>\n",
       "      <td>102.072525</td>\n",
       "      <td>97.061630</td>\n",
       "      <td>89.633743</td>\n",
       "      <td>81.727631</td>\n",
       "      <td>131.762084</td>\n",
       "      <td>105.791145</td>\n",
       "    </tr>\n",
       "    <tr>\n",
       "      <th>1198</th>\n",
       "      <td>102.063835</td>\n",
       "      <td>97.054207</td>\n",
       "      <td>89.579964</td>\n",
       "      <td>81.678764</td>\n",
       "      <td>136.477662</td>\n",
       "      <td>108.800269</td>\n",
       "    </tr>\n",
       "    <tr>\n",
       "      <th>1199</th>\n",
       "      <td>102.063538</td>\n",
       "      <td>97.054161</td>\n",
       "      <td>89.612534</td>\n",
       "      <td>81.708359</td>\n",
       "      <td>153.531592</td>\n",
       "      <td>122.395697</td>\n",
       "    </tr>\n",
       "  </tbody>\n",
       "</table>\n",
       "<p>1200 rows × 6 columns</p>\n",
       "</div>"
      ],
      "text/plain": [
       "      hpi_value_prediction_LSTM  hpi_real_prediction_LSTM  \\\n",
       "0                     15.490872                 40.672771   \n",
       "1                     15.423675                 40.619061   \n",
       "2                     15.319974                 40.529373   \n",
       "3                     16.419979                 41.372417   \n",
       "4                     15.907446                 41.075817   \n",
       "...                         ...                       ...   \n",
       "1195                 102.073891                 97.062820   \n",
       "1196                 102.080711                 97.068741   \n",
       "1197                 102.072525                 97.061630   \n",
       "1198                 102.063835                 97.054207   \n",
       "1199                 102.063538                 97.054161   \n",
       "\n",
       "      hpi_value_prediction_GRU  hpi_real_prediction_GRU   hpi_value  \\\n",
       "0                    24.603542                22.621391   13.768903   \n",
       "1                    25.038855                23.018486   12.701623   \n",
       "2                    24.697384                22.706278    8.042733   \n",
       "3                    28.338842                26.025887   13.820352   \n",
       "4                    25.460361                23.402369   13.928677   \n",
       "...                        ...                      ...         ...   \n",
       "1195                 89.645721                81.738518  154.218645   \n",
       "1196                 89.675987                81.766022  138.114581   \n",
       "1197                 89.633743                81.727631  131.762084   \n",
       "1198                 89.579964                81.678764  136.477662   \n",
       "1199                 89.612534                81.708359  153.531592   \n",
       "\n",
       "        hpi_real  \n",
       "0      45.531258  \n",
       "1      41.843461  \n",
       "2      26.495494  \n",
       "3      45.528933  \n",
       "4      45.799377  \n",
       "...          ...  \n",
       "1195  123.821410  \n",
       "1196  110.891535  \n",
       "1197  105.791145  \n",
       "1198  108.800269  \n",
       "1199  122.395697  \n",
       "\n",
       "[1200 rows x 6 columns]"
      ]
     },
     "execution_count": 17,
     "metadata": {},
     "output_type": "execute_result"
    }
   ],
   "source": [
    "# Validating models' predictions\n",
    "train_predictions1 = model.predict(X_train)\n",
    "train_predictions2 = model_gru.predict(X_train)\n",
    "train_results = pd.DataFrame(data={'hpi_value_prediction_LSTM': train_predictions1[:, 0],\n",
    "                                   'hpi_real_prediction_LSTM': train_predictions1[:, 1],\n",
    "                                   'hpi_value_prediction_GRU': train_predictions2[:, 0],\n",
    "                                   'hpi_real_prediction_GRU': train_predictions2[:, 1],\n",
    "                                   'hpi_value': y_train[:, 0],\n",
    "                                   'hpi_real': y_train[:, 1]})\n",
    "train_results"
   ]
  },
  {
   "cell_type": "code",
   "execution_count": 18,
   "metadata": {},
   "outputs": [
    {
     "data": {
      "text/plain": [
       "[<matplotlib.lines.Line2D at 0x1dbf370d190>]"
      ]
     },
     "execution_count": 18,
     "metadata": {},
     "output_type": "execute_result"
    },
    {
     "data": {
      "image/png": "[encoded data removed]",
      "text/plain": [
       "<Figure size 640x480 with 1 Axes>"
      ]
     },
     "metadata": {},
     "output_type": "display_data"
    }
   ],
   "source": [
    "# Showing plot previous results\n",
    "plt.plot(train_results['hpi_value_prediction_LSTM'][:1000])\n",
    "plt.plot(train_results['hpi_real_prediction_LSTM'][:1000])\n",
    "plt.plot(train_results['hpi_value_prediction_GRU'][:1000])\n",
    "plt.plot(train_results['hpi_real_prediction_GRU'][:1000])\n",
    "plt.plot(train_results['hpi_value'][:1000])\n",
    "plt.plot(train_results['hpi_real'][:1000])"
   ]
  },
  {
   "cell_type": "code",
   "execution_count": 19,
   "metadata": {},
   "outputs": [
    {
     "name": "stdout",
     "output_type": "stream",
     "text": [
      "2/2 [==============================] - 0s 2ms/step\n"
     ]
    },
    {
     "name": "stderr",
     "output_type": "stream",
     "text": [
      "C:\\Users\\jhost\\AppData\\Local\\Temp\\ipykernel_31588\\3015027570.py:5: FutureWarning: Series.__getitem__ treating keys as positions is deprecated. In a future version, integer keys will always be treated as labels (consistent with DataFrame behavior). To access a value by position, use `ser.iloc[pos]`\n",
      "  n_last_past_day = df_dates[-1]\n"
     ]
    }
   ],
   "source": [
    "# Number of rows (1 row per month) to be predict\n",
    "n_days_to_predict = 36\n",
    "\n",
    "# Last day (most recent date) from DataFrame\n",
    "n_last_past_day = df_dates[-1]\n",
    "\n",
    "# Predicting values with future\n",
    "future_predictions = model_gru.predict(X[-n_days_to_predict:])"
   ]
  },
  {
   "cell_type": "code",
   "execution_count": 20,
   "metadata": {},
   "outputs": [],
   "source": [
    "# Setting new index for predictions dataframe\n",
    "future_predictions_dates = []\n",
    "\n",
    "for i in range(n_days_to_predict):\n",
    "    future_predictions_dates.append(n_last_past_day + pd.DateOffset(months=i))"
   ]
  },
  {
   "cell_type": "code",
   "execution_count": 21,
   "metadata": {},
   "outputs": [],
   "source": [
    "# Creating new DataFrame for future values\n",
    "future_predictions_df = pd.DataFrame(index=future_predictions_dates, data={'hpi_value_prediction_GRU': future_predictions[:, 0],\n",
    "                                           'hpi_real_prediction_GRU': future_predictions[:, 1]})\n",
    "\n",
    "# Setting new Dataframe for only columns that interest us\n",
    "original_df = pd.DataFrame(data={'hpi_value': data_processed['hpi_value'],\n",
    "                                 'hpi_real': data_processed['hpi_real']})"
   ]
  },
  {
   "cell_type": "code",
   "execution_count": 22,
   "metadata": {},
   "outputs": [
    {
     "data": {
      "text/plain": [
       "[<matplotlib.lines.Line2D at 0x1dbf5939f50>,\n",
       " <matplotlib.lines.Line2D at 0x1dbf591ba10>]"
      ]
     },
     "execution_count": 22,
     "metadata": {},
     "output_type": "execute_result"
    },
    {
     "data": {
      "image/png": "[encoded data removed]",
      "text/plain": [
       "<Figure size 640x480 with 1 Axes>"
      ]
     },
     "metadata": {},
     "output_type": "display_data"
    }
   ],
   "source": [
    "# Showing predictions along with original DataFrame last values\n",
    "plt.plot(original_df[-100:])\n",
    "plt.plot(future_predictions_df)"
   ]
  },
  {
   "cell_type": "code",
   "execution_count": null,
   "metadata": {},
   "outputs": [],
   "source": [
    "# Loading predictions into DataBase\n",
    "load(future_predictions_df, \"zip_ts_processed\")"
   ]
  }
 ],
 "metadata": {
  "kernelspec": {
   "display_name": ".venv",
   "language": "python",
   "name": "python3"
  },
  "language_info": {
   "codemirror_mode": {
    "name": "ipython",
    "version": 3
   },
   "file_extension": ".py",
   "mimetype": "text/x-python",
   "name": "python",
   "nbconvert_exporter": "python",
   "pygments_lexer": "ipython3",
   "version": "3.11.5"
  }
 },
 "nbformat": 4,
 "nbformat_minor": 2
}
