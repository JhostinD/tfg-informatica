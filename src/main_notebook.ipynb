{
 "cells": [
  {
   "cell_type": "markdown",
   "metadata": {},
   "source": [
    "# Imports"
   ]
  },
  {
   "cell_type": "code",
   "execution_count": null,
   "metadata": {},
   "outputs": [],
   "source": [
    "import db_connection as db\n",
    "import numpy as np\n",
    "import pandas as pd\n",
    "from pandas import DataFrame\n",
    "from google.cloud import bigquery\n",
    "from keras.models import Sequential\n",
    "from keras.layers import LSTM, GRU, Dense, InputLayer\n",
    "from keras.optimizers import Adam\n",
    "from keras.metrics import RootMeanSquaredError\n",
    "from matplotlib import pyplot as plt"
   ]
  },
  {
   "cell_type": "markdown",
   "metadata": {},
   "source": [
    "It is important to create a \"settings.ini\" file that will contain the necessary parameters (database config parameters, in this case) for the \"cfg.py\" script. The format of this file will be:\n",
    "<br>\n",
    "<br>\n",
    "[settings]<br>\n",
    "DB_PASS=example_pass<br>\n",
    "DB_USER=postgres<br>\n",
    "DB_NAME=postgres<br>\n",
    "DB_HOST=127.0.0.1<br>\n",
    "DB_PORT=5432<br>\n",
    "<br>\n",
    "This is the configuration that a local postgreSQL database needs in order to create a connection with python 3. Note that this is a standard configuration and details may vary depending on the configuration of your own database."
   ]
  },
  {
   "cell_type": "markdown",
   "metadata": {},
   "source": [
    "# Functions definition"
   ]
  },
  {
   "cell_type": "markdown",
   "metadata": {},
   "source": [
    "## PHASE 1: ETL"
   ]
  },
  {
   "cell_type": "markdown",
   "metadata": {},
   "source": [
    "First, we need to set the client that will be used to get data from BigQuery. In this case, we created a .json key from our Google Cloud project and downloaded it to use it in our \"src/\" repository folder:"
   ]
  },
  {
   "cell_type": "code",
   "execution_count": null,
   "metadata": {},
   "outputs": [],
   "source": [
    "# Google Cloud BigQuery client for extracting raw data\n",
    "client = bigquery.Client()"
   ]
  },
  {
   "cell_type": "markdown",
   "metadata": {},
   "source": [
    "Next, we will define our 3 steps for data gathering:<br>\n",
    "\n",
    "- <strong>extract</strong>: step that contains the query which extracts raw information from our chosen dataset.\n",
    "- <strong>transform</strong>: step that cleans the retrieved data from previous step. In this case, 5 columns that the own code describes.\n",
    "- <strong>load</strong>: step that loads the clean data in our database. <em>Note</em> that between this step and the previous one we will train our neural network in order to save our prediction."
   ]
  },
  {
   "cell_type": "code",
   "execution_count": null,
   "metadata": {},
   "outputs": [],
   "source": [
    "def extract():\n",
    "    query = \"SELECT * FROM `housecanary-com.sample.zip_ts` LIMIT 2000\"\n",
    "\n",
    "    query_job = client.query(query)\n",
    "\n",
    "    return query_job\n",
    "\n",
    "\n",
    "def transform(data_raw):\n",
    "    '''\n",
    "    columns that will be saved (from 'zip_ts' table from dataset ):\n",
    "        - zip (string): 5 digit postal code\n",
    "        - msa (string): 5 digit Metropolitan Statistical Area code\n",
    "        - month (date): timeseries date\n",
    "        - hpi_value (float): nominal housing price index\n",
    "        - hpi_real (float): real housing price index after adjusting nominal hpi for inflation as measured by the CPI\n",
    "    '''\n",
    "\n",
    "    # Selecting desired columns and saving them in a list for filtering next\n",
    "    selected_columns = ['zip', 'msa', 'month', 'hpi_value', 'hpi_real']\n",
    "\n",
    "    # Getting DataFrame from previous query result\n",
    "    df_clean = data_raw.to_dataframe()\n",
    "\n",
    "    # Filtering columns given selected columns list\n",
    "    df_clean: DataFrame = df_clean.loc[:, selected_columns]\n",
    "\n",
    "    # Converting zip and msa columns to float values, month to datetime\n",
    "    df_clean['zip'] = df_clean['zip'].astype(float)\n",
    "    df_clean['msa'] = df_clean['msa'].astype(float)\n",
    "    df_clean['month'] = pd.to_datetime(df_clean['month'])\n",
    "\n",
    "    # Cleaning data from NaN values in hpi_value and hpi_real\n",
    "    df_clean = df_clean[df_clean.hpi_value.notnull()]\n",
    "    df_clean = df_clean[df_clean.hpi_real.notnull()]\n",
    "\n",
    "    return df_clean\n",
    "\n",
    "\n",
    "def load(conn, df):\n",
    "    # Table and Schema\n",
    "    table_name = \"zip_ts_raw\"\n",
    "    schema_name = \"public\"\n",
    "    \n",
    "    db.insert_rows(df, table_name, schema_name, conn)"
   ]
  },
  {
   "cell_type": "markdown",
   "metadata": {},
   "source": [
    "## PHASE 2: AI training"
   ]
  },
  {
   "cell_type": "markdown",
   "metadata": {},
   "source": [
    "In this phase, we will create a tensorflow model that will use the retrieved and cleaned data from previous our ETL phase."
   ]
  },
  {
   "cell_type": "code",
   "execution_count": null,
   "metadata": {},
   "outputs": [],
   "source": [
    "# Retrieving raw data from Google Cloud Platform dataset (House-canary)\n",
    "data_raw = extract()\n",
    "\n",
    "# Transforming raw data into processed data for database\n",
    "data_processed = transform(data_raw)\n",
    "\n",
    "# Loading dataset into our raw_data table from our PostgreSQL Database"
   ]
  },
  {
   "cell_type": "code",
   "execution_count": null,
   "metadata": {},
   "outputs": [],
   "source": [
    "# Sort values by its date and setting the column as index\n",
    "data_processed = data_processed.sort_values(by=['month'])\n",
    "data_processed.set_index('month', drop=False, inplace=True)"
   ]
  },
  {
   "cell_type": "code",
   "execution_count": null,
   "metadata": {},
   "outputs": [],
   "source": [
    "# Getting df dates for future indexing\n",
    "df_dates = data_processed['month'].drop_duplicates()\n",
    "df_dates"
   ]
  },
  {
   "cell_type": "code",
   "execution_count": null,
   "metadata": {},
   "outputs": [],
   "source": [
    "# Showing dataframe\n",
    "data_processed"
   ]
  },
  {
   "cell_type": "code",
   "execution_count": null,
   "metadata": {},
   "outputs": [],
   "source": [
    "# Divide data in features (X) and labels (y)\n",
    "# In this section, we will predict the 6th value per 5 values\n",
    "# Example: input [1,2,3,4,5] -> output [6]\n",
    "WINDOW_SIZE = 5\n",
    "\n",
    "# Here, if I use this commented line instead of the next one, the training loss will be much worse (I suspect it is because they're constants)\n",
    "#df_as_np_input = data_processed.drop(['month'], axis=1).to_numpy()\n",
    "df_as_np_input = data_processed.drop(['month', 'zip', 'msa'], axis=1).to_numpy()\n",
    "\n",
    "df_as_np_output = data_processed[['hpi_value', 'hpi_real']].to_numpy()\n",
    "\n",
    "X = []\n",
    "y = []\n",
    "\n",
    "for i in range(len(df_as_np_input)-WINDOW_SIZE):\n",
    "    row = [a for a in df_as_np_input[i:i+5]]\n",
    "    X.append(row)\n",
    "\n",
    "    label = df_as_np_output[i+5]\n",
    "    y.append(label)\n",
    "\n",
    "X = np.array(X)\n",
    "y = np.array(y)\n",
    "\n",
    "X.shape, y.shape"
   ]
  },
  {
   "cell_type": "code",
   "execution_count": null,
   "metadata": {},
   "outputs": [],
   "source": [
    "### Divide data in test and train sets\n",
    "\n",
    "# Training data\n",
    "X_train, y_train = X[:1200], y[:1200]\n",
    "\n",
    "# Validation data\n",
    "X_val, y_val = X[1200:1400], y[1200:1400]\n",
    "\n",
    "# Test data\n",
    "X_test, y_test = X[1400:], y[1400:]\n",
    "\n",
    "# Showing values\n",
    "X_train.shape, y_train.shape, X_val.shape, y_val.shape, X_test.shape, y_test.shape"
   ]
  },
  {
   "cell_type": "code",
   "execution_count": null,
   "metadata": {},
   "outputs": [],
   "source": [
    "# Define neural network architecture (GRU layer)\n",
    "model_gru = Sequential()\n",
    "model_gru.add(InputLayer(input_shape=(X_train.shape[1], X_train.shape[2])))\n",
    "model_gru.add(GRU(64))\n",
    "model_gru.add(Dense(8, activation='relu'))\n",
    "model_gru.add(Dense(2, activation='linear'))\n",
    "\n",
    "# Define neural network architecture (LSTM layer)\n",
    "model = Sequential([\n",
    "    InputLayer(input_shape=(X_train.shape[1], X_train.shape[2])), # Input shape as parameter\n",
    "    LSTM(64),\n",
    "    Dense(8, activation='relu'),\n",
    "    Dense(2, activation='linear')  # 2 output neurons to predict 2 columns\n",
    "])\n",
    "\n",
    "# Compile model\n",
    "model.compile(optimizer=Adam(learning_rate=0.0005), loss='mse', metrics=[RootMeanSquaredError()])\n",
    "model_gru.compile(optimizer=Adam(learning_rate=0.0005), loss='mse', metrics=[RootMeanSquaredError()])"
   ]
  },
  {
   "cell_type": "code",
   "execution_count": null,
   "metadata": {},
   "outputs": [],
   "source": [
    "# Train model\n",
    "history = model.fit(X_train, y_train, epochs=30, validation_data=(X_val, y_val))\n",
    "history_gru = model_gru.fit(X_train, y_train, epochs=30, validation_data=(X_val, y_val))"
   ]
  },
  {
   "cell_type": "code",
   "execution_count": null,
   "metadata": {},
   "outputs": [],
   "source": [
    "# Showing LSTM model loss in plot\n",
    "plt.plot(history.history['loss'][20:30], label='Training loss')\n",
    "plt.plot(history.history['val_loss'][20:30], label='Validation loss')\n",
    "plt.legend()"
   ]
  },
  {
   "cell_type": "code",
   "execution_count": null,
   "metadata": {},
   "outputs": [],
   "source": [
    "# Showing GRU model loss in plot\n",
    "plt.plot(history_gru.history['loss'][20:30], label='Training loss')\n",
    "plt.plot(history_gru.history['val_loss'][20:30], label='Validation loss')\n",
    "plt.legend()"
   ]
  },
  {
   "cell_type": "code",
   "execution_count": null,
   "metadata": {},
   "outputs": [],
   "source": [
    "# Validating models' predictions\n",
    "train_predictions1 = model.predict(X_train)\n",
    "train_predictions2 = model_gru.predict(X_train)\n",
    "train_results = pd.DataFrame(data={'hpi_value_prediction_LSTM': train_predictions1[:, 0],\n",
    "                                   'hpi_real_prediction_LSTM': train_predictions1[:, 1],\n",
    "                                   'hpi_value_prediction_GRU': train_predictions2[:, 0],\n",
    "                                   'hpi_real_prediction_GRU': train_predictions2[:, 1],\n",
    "                                   'hpi_value': y_train[:, 0],\n",
    "                                   'hpi_real': y_train[:, 1]})\n",
    "train_results"
   ]
  },
  {
   "cell_type": "code",
   "execution_count": null,
   "metadata": {},
   "outputs": [],
   "source": [
    "# Showing plot previous results\n",
    "plt.plot(train_results['hpi_value_prediction_LSTM'][:1000])\n",
    "plt.plot(train_results['hpi_real_prediction_LSTM'][:1000])\n",
    "plt.plot(train_results['hpi_value_prediction_GRU'][:1000])\n",
    "plt.plot(train_results['hpi_real_prediction_GRU'][:1000])\n",
    "plt.plot(train_results['hpi_value'][:1000])\n",
    "plt.plot(train_results['hpi_real'][:1000])"
   ]
  },
  {
   "cell_type": "code",
   "execution_count": 121,
   "metadata": {},
   "outputs": [
    {
     "name": "stdout",
     "output_type": "stream",
     "text": [
      "2/2 [==============================] - 0s 2ms/step\n"
     ]
    },
    {
     "name": "stderr",
     "output_type": "stream",
     "text": [
      "C:\\Users\\jhost\\AppData\\Local\\Temp\\ipykernel_115640\\872774875.py:2: FutureWarning: Series.__getitem__ treating keys as positions is deprecated. In a future version, integer keys will always be treated as labels (consistent with DataFrame behavior). To access a value by position, use `ser.iloc[pos]`\n",
      "  n_last_past_day = df_dates[-1]\n"
     ]
    }
   ],
   "source": [
    "# Number of rows (1 row per month) to be predict\n",
    "n_days_to_predict = 36\n",
    "\n",
    "# Last day (most recent date) from DataFrame\n",
    "n_last_past_day = df_dates[-1]\n",
    "\n",
    "# Predicting values with future\n",
    "future_predictions = model_gru.predict(X[-n_days_to_predict:])"
   ]
  },
  {
   "cell_type": "code",
   "execution_count": 128,
   "metadata": {},
   "outputs": [],
   "source": [
    "# Setting new index for predictions dataframe\n",
    "future_predictions_dates = []\n",
    "\n",
    "for i in range(n_days_to_predict):\n",
    "    future_predictions_dates.append(n_last_past_day + pd.DateOffset(months=i))"
   ]
  },
  {
   "cell_type": "code",
   "execution_count": 131,
   "metadata": {},
   "outputs": [],
   "source": [
    "# Creating new DataFrame for future values\n",
    "future_predictions_df = pd.DataFrame(index=future_predictions_dates, data={'hpi_value_prediction_GRU': future_predictions[:, 0],\n",
    "                                           'hpi_real_prediction_GRU': future_predictions[:, 1]})\n",
    "\n",
    "# Setting new Dataframe for only columns that interest us\n",
    "original_df = pd.DataFrame(data={'hpi_value': data_processed['hpi_value'],\n",
    "                                 'hpi_real': data_processed['hpi_real']})"
   ]
  },
  {
   "cell_type": "code",
   "execution_count": 134,
   "metadata": {},
   "outputs": [
    {
     "data": {
      "text/plain": [
       "[<matplotlib.lines.Line2D at 0x1a8c5c8ffd0>,\n",
       " <matplotlib.lines.Line2D at 0x1a8c65b06d0>]"
      ]
     },
     "execution_count": 134,
     "metadata": {},
     "output_type": "execute_result"
    },
    {
     "data": {
      "image/png": "[encoded data removed]",
      "text/plain": [
       "<Figure size 640x480 with 1 Axes>"
      ]
     },
     "metadata": {},
     "output_type": "display_data"
    }
   ],
   "source": [
    "# Showing predictions along with original DataFrame last values\n",
    "plt.plot(original_df[-100:])\n",
    "plt.plot(future_predictions_df)"
   ]
  },
  {
   "cell_type": "code",
   "execution_count": null,
   "metadata": {},
   "outputs": [],
   "source": [
    "# Loading predictions into DataBase"
   ]
  }
 ],
 "metadata": {
  "kernelspec": {
   "display_name": ".venv",
   "language": "python",
   "name": "python3"
  },
  "language_info": {
   "codemirror_mode": {
    "name": "ipython",
    "version": 3
   },
   "file_extension": ".py",
   "mimetype": "text/x-python",
   "name": "python",
   "nbconvert_exporter": "python",
   "pygments_lexer": "ipython3",
   "version": "3.11.5"
  }
 },
 "nbformat": 4,
 "nbformat_minor": 2
}
