{
 "cells": [
  {
   "cell_type": "markdown",
   "metadata": {},
   "source": [
    "# Imports"
   ]
  },
  {
   "cell_type": "code",
   "execution_count": null,
   "metadata": {},
   "outputs": [],
   "source": [
    "import db_connection as db\n",
    "import tensorflow as tf\n",
    "import numpy as np\n",
    "import pandas as pd\n",
    "from pandas import DataFrame\n",
    "from google.cloud import bigquery\n",
    "from sklearn.model_selection import train_test_split\n",
    "from sklearn.preprocessing import StandardScaler\n",
    "from keras.models import Sequential\n",
    "from keras.layers import LSTM, GRU, Dense, Dropout, InputLayer\n",
    "from keras.optimizers import Adam\n",
    "from keras.metrics import RootMeanSquaredError\n",
    "from matplotlib import pyplot as plt"
   ]
  },
  {
   "cell_type": "markdown",
   "metadata": {},
   "source": [
    "It is important to create a \"settings.ini\" file that will contain the necessary parameters (database config parameters, in this case) for the \"cfg.py\" script. The format of this file will be:\n",
    "<br>\n",
    "<br>\n",
    "[settings]<br>\n",
    "DB_PASS=example_pass<br>\n",
    "DB_USER=postgres<br>\n",
    "DB_NAME=postgres<br>\n",
    "DB_HOST=127.0.0.1<br>\n",
    "DB_PORT=5432<br>\n",
    "<br>\n",
    "This is the configuration that a local postgreSQL database needs in order to create a connection with python 3. Note that this is a standard configuration and details may vary depending on the configuration of your own database."
   ]
  },
  {
   "cell_type": "markdown",
   "metadata": {},
   "source": [
    "# Functions definition"
   ]
  },
  {
   "cell_type": "markdown",
   "metadata": {},
   "source": [
    "## PHASE 1: ETL"
   ]
  },
  {
   "cell_type": "markdown",
   "metadata": {},
   "source": [
    "First, we need to set the client that will be used to get data from BigQuery. In this case, we created a .json key from our Google Cloud project and downloaded it to use it in our \"src/\" repository folder:"
   ]
  },
  {
   "cell_type": "code",
   "execution_count": null,
   "metadata": {},
   "outputs": [],
   "source": [
    "# Google Cloud BigQuery client for extracting raw data\n",
    "client = bigquery.Client()"
   ]
  },
  {
   "cell_type": "markdown",
   "metadata": {},
   "source": [
    "Next, we will define our 3 steps for data gathering:<br>\n",
    "\n",
    "- <strong>extract</strong>: step that contains the query which extracts raw information from our chosen dataset.\n",
    "- <strong>transform</strong>: step that cleans the retrieved data from previous step. In this case, 5 columns that the own code describes.\n",
    "- <strong>load</strong>: step that loads the clean data in our database. <em>Note</em> that between this step and the previous one we will train our neural network in order to save our prediction."
   ]
  },
  {
   "cell_type": "code",
   "execution_count": null,
   "metadata": {},
   "outputs": [],
   "source": [
    "def extract():\n",
    "    query = \"SELECT * FROM `housecanary-com.sample.zip_ts` LIMIT 2000\"\n",
    "\n",
    "    query_job = client.query(query)\n",
    "\n",
    "    return query_job\n",
    "\n",
    "\n",
    "def transform(data_raw):\n",
    "    '''\n",
    "    columns that will be saved (from 'zip_ts' table from dataset ):\n",
    "        - zip (string): 5 digit postal code\n",
    "        - msa (string): 5 digit Metropolitan Statistical Area code\n",
    "        - month (date): timeseries date\n",
    "        - hpi_value (float): nominal housing price index\n",
    "        - hpi_real (float): real housing price index after adjusting nominal hpi for inflation as measured by the CPI\n",
    "    '''\n",
    "\n",
    "    # Selecting desired columns and saving them in a list for filtering next\n",
    "    selected_columns = ['zip', 'msa', 'month', 'hpi_value', 'hpi_real']\n",
    "\n",
    "    # Getting DataFrame from previous query result\n",
    "    df_clean = data_raw.to_dataframe()\n",
    "\n",
    "    # Filtering columns given selected columns list\n",
    "    df_clean: DataFrame = df_clean.loc[:, selected_columns]\n",
    "\n",
    "    # Converting zip and msa columns to float values, month to datetime\n",
    "    df_clean['zip'] = df_clean['zip'].astype(float)\n",
    "    df_clean['msa'] = df_clean['msa'].astype(float)\n",
    "    df_clean['month'] = pd.to_datetime(df_clean['month'])\n",
    "\n",
    "    # Cleaning data from NaN values in hpi_value and hpi_real\n",
    "    df_clean = df_clean[df_clean.hpi_value.notnull()]\n",
    "    df_clean = df_clean[df_clean.hpi_real.notnull()]\n",
    "\n",
    "    return df_clean\n",
    "\n",
    "\n",
    "def load(conn, df):\n",
    "    # Table and Schema\n",
    "    table_name = \"zip_ts_raw\"\n",
    "    schema_name = \"public\"\n",
    "    \n",
    "    db.insert_rows(df, table_name, schema_name, conn)"
   ]
  },
  {
   "cell_type": "markdown",
   "metadata": {},
   "source": [
    "## PHASE 2: AI training"
   ]
  },
  {
   "cell_type": "markdown",
   "metadata": {},
   "source": [
    "In this phase, we will create a tensorflow model that will use the retrieved and cleaned data from previous our ETL phase."
   ]
  },
  {
   "cell_type": "code",
   "execution_count": null,
   "metadata": {},
   "outputs": [],
   "source": [
    "# Retrieving raw data from Google Cloud Platform dataset (House-canary)\n",
    "data_raw = extract()\n",
    "\n",
    "# Transforming raw data into processed data for database\n",
    "data_processed = transform(data_raw)"
   ]
  },
  {
   "cell_type": "code",
   "execution_count": null,
   "metadata": {},
   "outputs": [],
   "source": [
    "data_processed = data_processed.sort_values(by=['month'])\n",
    "data_processed"
   ]
  },
  {
   "cell_type": "code",
   "execution_count": null,
   "metadata": {},
   "outputs": [],
   "source": [
    "df_plot = data_processed[['month', 'hpi_value', 'hpi_real']]\n",
    "df_plot.set_index('month', inplace=True)\n",
    "\n",
    "df_plot"
   ]
  },
  {
   "cell_type": "code",
   "execution_count": null,
   "metadata": {},
   "outputs": [],
   "source": [
    "df_plot.plot(kind='line', figsize=(14,8))\n",
    "plt.title('Housing pricing')\n",
    "plt.ylabel(ylabel='values')\n",
    "plt.xlabel(xlabel='date')"
   ]
  },
  {
   "cell_type": "code",
   "execution_count": null,
   "metadata": {},
   "outputs": [],
   "source": [
    "#pd.set_option('display.max_rows', 50)\n",
    "data_processed"
   ]
  },
  {
   "cell_type": "code",
   "execution_count": 58,
   "metadata": {},
   "outputs": [
    {
     "data": {
      "text/plain": [
       "((1687, 5, 4), (1687, 2))"
      ]
     },
     "execution_count": 58,
     "metadata": {},
     "output_type": "execute_result"
    }
   ],
   "source": [
    "# Divide data in features (X) and labels (y)\n",
    "WINDOW_SIZE = 5\n",
    "\n",
    "# Here, if I use this commented line instead of the next one, the training loss will be much worse (I suspect it is because they're constants)\n",
    "#df_as_np_input = data_processed.drop(['month'], axis=1).to_numpy()\n",
    "df_as_np_input = data_processed.drop(['month', 'zip', 'msa'], axis=1).to_numpy()\n",
    "\n",
    "df_as_np_output = data_processed[['hpi_value', 'hpi_real']].to_numpy()\n",
    "\n",
    "X = []\n",
    "y = []\n",
    "\n",
    "for i in range(len(df_as_np_input)-WINDOW_SIZE):\n",
    "    row = [a for a in df_as_np_input[i:i+5]]\n",
    "    X.append(row)\n",
    "\n",
    "    label = df_as_np_output[i+5]\n",
    "    y.append(label)\n",
    "\n",
    "X = np.array(X)\n",
    "y = np.array(y)\n",
    "\n",
    "X.shape, y.shape"
   ]
  },
  {
   "cell_type": "code",
   "execution_count": 59,
   "metadata": {},
   "outputs": [
    {
     "data": {
      "text/plain": [
       "((1200, 5, 4), (1200, 2), (200, 5, 4), (200, 2), (287, 5, 4), (287, 2))"
      ]
     },
     "execution_count": 59,
     "metadata": {},
     "output_type": "execute_result"
    }
   ],
   "source": [
    "### Divide data in test and train sets\n",
    "\n",
    "# Training data\n",
    "X_train, y_train = X[:1200], y[:1200]\n",
    "\n",
    "# Validation data\n",
    "X_val, y_val = X[1200:1400], y[1200:1400]\n",
    "\n",
    "# Test data\n",
    "X_test, y_test = X[1400:], y[1400:]\n",
    "\n",
    "X_train.shape, y_train.shape, X_val.shape, y_val.shape, X_test.shape, y_test.shape"
   ]
  },
  {
   "cell_type": "code",
   "execution_count": 60,
   "metadata": {},
   "outputs": [],
   "source": [
    "model_gru = Sequential()\n",
    "model_gru.add(InputLayer(input_shape=(X_train.shape[1], X_train.shape[2])))\n",
    "model_gru.add(GRU(64))\n",
    "model_gru.add(Dense(8, activation='relu'))\n",
    "model_gru.add(Dense(2, activation='linear'))\n",
    "#model_gru.add(Dense(1, activation='linear'))\n",
    "\n",
    "# Define neural network architecture\n",
    "model = Sequential([\n",
    "    InputLayer(input_shape=(X_train.shape[1], X_train.shape[2])), # Input shape as parameter\n",
    "    LSTM(64),\n",
    "    Dense(8, activation='relu'),\n",
    "    Dense(2, activation='linear')  # 2 output neurons to predict 2 columns\n",
    "    #Dense(1, activation='linear')  # 2 output neurons to predict 2 columns\n",
    "])\n",
    "\n",
    "# Compile model\n",
    "model.compile(optimizer=Adam(learning_rate=0.0005), loss='mse', metrics=[RootMeanSquaredError()])\n",
    "model_gru.compile(optimizer=Adam(learning_rate=0.0005), loss='mse', metrics=[RootMeanSquaredError()])"
   ]
  },
  {
   "cell_type": "code",
   "execution_count": 61,
   "metadata": {},
   "outputs": [
    {
     "name": "stdout",
     "output_type": "stream",
     "text": [
      "Epoch 1/30\n",
      "38/38 [==============================] - 1s 8ms/step - loss: 6941.9360 - root_mean_squared_error: 83.3183 - val_loss: 14187.9404 - val_root_mean_squared_error: 119.1131\n",
      "Epoch 2/30\n",
      "38/38 [==============================] - 0s 2ms/step - loss: 6916.1313 - root_mean_squared_error: 83.1633 - val_loss: 14147.1113 - val_root_mean_squared_error: 118.9416\n",
      "Epoch 3/30\n",
      "38/38 [==============================] - 0s 2ms/step - loss: 6887.2876 - root_mean_squared_error: 82.9897 - val_loss: 14101.8096 - val_root_mean_squared_error: 118.7510\n",
      "Epoch 4/30\n",
      "38/38 [==============================] - 0s 2ms/step - loss: 6855.0356 - root_mean_squared_error: 82.7951 - val_loss: 14049.9717 - val_root_mean_squared_error: 118.5326\n",
      "Epoch 5/30\n",
      "38/38 [==============================] - 0s 2ms/step - loss: 6818.2988 - root_mean_squared_error: 82.5730 - val_loss: 13991.9238 - val_root_mean_squared_error: 118.2875\n",
      "Epoch 6/30\n",
      "38/38 [==============================] - 0s 2ms/step - loss: 6777.9785 - root_mean_squared_error: 82.3285 - val_loss: 13930.8066 - val_root_mean_squared_error: 118.0288\n",
      "Epoch 7/30\n",
      "38/38 [==============================] - 0s 2ms/step - loss: 6733.5898 - root_mean_squared_error: 82.0584 - val_loss: 13860.8525 - val_root_mean_squared_error: 117.7321\n",
      "Epoch 8/30\n",
      "38/38 [==============================] - 0s 2ms/step - loss: 6683.6709 - root_mean_squared_error: 81.7537 - val_loss: 13783.6865 - val_root_mean_squared_error: 117.4039\n",
      "Epoch 9/30\n",
      "38/38 [==============================] - 0s 2ms/step - loss: 6629.2666 - root_mean_squared_error: 81.4203 - val_loss: 13697.1064 - val_root_mean_squared_error: 117.0346\n",
      "Epoch 10/30\n",
      "38/38 [==============================] - 0s 2ms/step - loss: 6569.7622 - root_mean_squared_error: 81.0541 - val_loss: 13603.4746 - val_root_mean_squared_error: 116.6339\n",
      "Epoch 11/30\n",
      "38/38 [==============================] - 0s 2ms/step - loss: 6505.6338 - root_mean_squared_error: 80.6575 - val_loss: 13502.2070 - val_root_mean_squared_error: 116.1990\n",
      "Epoch 12/30\n",
      "38/38 [==============================] - 0s 2ms/step - loss: 6436.7578 - root_mean_squared_error: 80.2294 - val_loss: 13393.9160 - val_root_mean_squared_error: 115.7321\n",
      "Epoch 13/30\n",
      "38/38 [==============================] - 0s 2ms/step - loss: 6364.0010 - root_mean_squared_error: 79.7747 - val_loss: 13277.1074 - val_root_mean_squared_error: 115.2263\n",
      "Epoch 14/30\n",
      "38/38 [==============================] - 0s 2ms/step - loss: 6286.7339 - root_mean_squared_error: 79.2889 - val_loss: 13154.0752 - val_root_mean_squared_error: 114.6912\n",
      "Epoch 15/30\n",
      "38/38 [==============================] - 0s 2ms/step - loss: 6205.8018 - root_mean_squared_error: 78.7769 - val_loss: 13023.3740 - val_root_mean_squared_error: 114.1200\n",
      "Epoch 16/30\n",
      "38/38 [==============================] - 0s 2ms/step - loss: 6120.7656 - root_mean_squared_error: 78.2353 - val_loss: 12887.6211 - val_root_mean_squared_error: 113.5237\n",
      "Epoch 17/30\n",
      "38/38 [==============================] - 0s 2ms/step - loss: 6032.4761 - root_mean_squared_error: 77.6690 - val_loss: 12744.8389 - val_root_mean_squared_error: 112.8930\n",
      "Epoch 18/30\n",
      "38/38 [==============================] - 0s 2ms/step - loss: 5940.9507 - root_mean_squared_error: 77.0776 - val_loss: 12596.2334 - val_root_mean_squared_error: 112.2329\n",
      "Epoch 19/30\n",
      "38/38 [==============================] - 0s 2ms/step - loss: 5846.6025 - root_mean_squared_error: 76.4631 - val_loss: 12442.7471 - val_root_mean_squared_error: 111.5471\n",
      "Epoch 20/30\n",
      "38/38 [==============================] - 0s 2ms/step - loss: 5749.4507 - root_mean_squared_error: 75.8251 - val_loss: 12284.6621 - val_root_mean_squared_error: 110.8362\n",
      "Epoch 21/30\n",
      "38/38 [==============================] - 0s 2ms/step - loss: 5650.2373 - root_mean_squared_error: 75.1681 - val_loss: 12120.2412 - val_root_mean_squared_error: 110.0920\n",
      "Epoch 22/30\n",
      "38/38 [==============================] - 0s 2ms/step - loss: 5548.4219 - root_mean_squared_error: 74.4877 - val_loss: 11950.4453 - val_root_mean_squared_error: 109.3181\n",
      "Epoch 23/30\n",
      "38/38 [==============================] - 0s 2ms/step - loss: 5444.2827 - root_mean_squared_error: 73.7854 - val_loss: 11780.5449 - val_root_mean_squared_error: 108.5382\n",
      "Epoch 24/30\n",
      "38/38 [==============================] - 0s 2ms/step - loss: 5339.2671 - root_mean_squared_error: 73.0703 - val_loss: 11603.3301 - val_root_mean_squared_error: 107.7188\n",
      "Epoch 25/30\n",
      "38/38 [==============================] - 0s 2ms/step - loss: 5231.7588 - root_mean_squared_error: 72.3309 - val_loss: 11424.9951 - val_root_mean_squared_error: 106.8878\n",
      "Epoch 26/30\n",
      "38/38 [==============================] - 0s 2ms/step - loss: 5123.7632 - root_mean_squared_error: 71.5805 - val_loss: 11242.3877 - val_root_mean_squared_error: 106.0301\n",
      "Epoch 27/30\n",
      "38/38 [==============================] - 0s 2ms/step - loss: 5014.8999 - root_mean_squared_error: 70.8159 - val_loss: 11055.9502 - val_root_mean_squared_error: 105.1473\n",
      "Epoch 28/30\n",
      "38/38 [==============================] - 0s 2ms/step - loss: 4905.3325 - root_mean_squared_error: 70.0381 - val_loss: 10867.2197 - val_root_mean_squared_error: 104.2460\n",
      "Epoch 29/30\n",
      "38/38 [==============================] - 0s 2ms/step - loss: 4795.6196 - root_mean_squared_error: 69.2504 - val_loss: 10677.2998 - val_root_mean_squared_error: 103.3310\n",
      "Epoch 30/30\n",
      "38/38 [==============================] - 0s 2ms/step - loss: 4685.3140 - root_mean_squared_error: 68.4494 - val_loss: 10487.1445 - val_root_mean_squared_error: 102.4068\n",
      "Epoch 1/30\n",
      "38/38 [==============================] - 1s 7ms/step - loss: 6986.0210 - root_mean_squared_error: 83.5824 - val_loss: 14234.1172 - val_root_mean_squared_error: 119.3068\n",
      "Epoch 2/30\n",
      "38/38 [==============================] - 0s 2ms/step - loss: 6964.2261 - root_mean_squared_error: 83.4519 - val_loss: 14215.5127 - val_root_mean_squared_error: 119.2288\n",
      "Epoch 3/30\n",
      "38/38 [==============================] - 0s 2ms/step - loss: 6955.6665 - root_mean_squared_error: 83.4006 - val_loss: 14210.6260 - val_root_mean_squared_error: 119.2083\n",
      "Epoch 4/30\n",
      "38/38 [==============================] - 0s 2ms/step - loss: 6952.8926 - root_mean_squared_error: 83.3840 - val_loss: 14206.2354 - val_root_mean_squared_error: 119.1899\n",
      "Epoch 5/30\n",
      "38/38 [==============================] - 0s 2ms/step - loss: 6950.1470 - root_mean_squared_error: 83.3675 - val_loss: 14201.8477 - val_root_mean_squared_error: 119.1715\n",
      "Epoch 6/30\n",
      "38/38 [==============================] - 0s 2ms/step - loss: 6947.3989 - root_mean_squared_error: 83.3511 - val_loss: 14197.4746 - val_root_mean_squared_error: 119.1532\n",
      "Epoch 7/30\n",
      "38/38 [==============================] - 0s 2ms/step - loss: 6944.6489 - root_mean_squared_error: 83.3346 - val_loss: 14193.0947 - val_root_mean_squared_error: 119.1348\n",
      "Epoch 8/30\n",
      "38/38 [==============================] - 0s 2ms/step - loss: 6941.9077 - root_mean_squared_error: 83.3181 - val_loss: 14188.7197 - val_root_mean_squared_error: 119.1164\n",
      "Epoch 9/30\n",
      "38/38 [==============================] - 0s 2ms/step - loss: 6939.1704 - root_mean_squared_error: 83.3017 - val_loss: 14184.3154 - val_root_mean_squared_error: 119.0979\n",
      "Epoch 10/30\n",
      "38/38 [==============================] - 0s 2ms/step - loss: 6936.4268 - root_mean_squared_error: 83.2852 - val_loss: 14179.9561 - val_root_mean_squared_error: 119.0796\n",
      "Epoch 11/30\n",
      "38/38 [==============================] - 0s 2ms/step - loss: 6933.6865 - root_mean_squared_error: 83.2688 - val_loss: 14175.5742 - val_root_mean_squared_error: 119.0612\n",
      "Epoch 12/30\n",
      "38/38 [==============================] - 0s 2ms/step - loss: 6930.9453 - root_mean_squared_error: 83.2523 - val_loss: 14171.2305 - val_root_mean_squared_error: 119.0430\n",
      "Epoch 13/30\n",
      "38/38 [==============================] - 0s 2ms/step - loss: 6928.2090 - root_mean_squared_error: 83.2359 - val_loss: 14166.9023 - val_root_mean_squared_error: 119.0248\n",
      "Epoch 14/30\n",
      "38/38 [==============================] - 0s 2ms/step - loss: 6925.4785 - root_mean_squared_error: 83.2195 - val_loss: 14162.4766 - val_root_mean_squared_error: 119.0062\n",
      "Epoch 15/30\n",
      "38/38 [==============================] - 0s 2ms/step - loss: 6922.7285 - root_mean_squared_error: 83.2029 - val_loss: 14158.1133 - val_root_mean_squared_error: 118.9879\n",
      "Epoch 16/30\n",
      "38/38 [==============================] - 0s 2ms/step - loss: 6919.9985 - root_mean_squared_error: 83.1865 - val_loss: 14153.7510 - val_root_mean_squared_error: 118.9695\n",
      "Epoch 17/30\n",
      "38/38 [==============================] - 0s 2ms/step - loss: 6917.2676 - root_mean_squared_error: 83.1701 - val_loss: 14149.3604 - val_root_mean_squared_error: 118.9511\n",
      "Epoch 18/30\n",
      "38/38 [==============================] - 0s 2ms/step - loss: 6914.5317 - root_mean_squared_error: 83.1537 - val_loss: 14145.0137 - val_root_mean_squared_error: 118.9328\n",
      "Epoch 19/30\n",
      "38/38 [==============================] - 0s 2ms/step - loss: 6911.8052 - root_mean_squared_error: 83.1373 - val_loss: 14140.6650 - val_root_mean_squared_error: 118.9145\n",
      "Epoch 20/30\n",
      "38/38 [==============================] - 0s 2ms/step - loss: 6909.0757 - root_mean_squared_error: 83.1208 - val_loss: 14136.3252 - val_root_mean_squared_error: 118.8963\n",
      "Epoch 21/30\n",
      "38/38 [==============================] - 0s 2ms/step - loss: 6906.3442 - root_mean_squared_error: 83.1044 - val_loss: 14131.9863 - val_root_mean_squared_error: 118.8780\n",
      "Epoch 22/30\n",
      "38/38 [==============================] - 0s 2ms/step - loss: 6903.6230 - root_mean_squared_error: 83.0880 - val_loss: 14127.5547 - val_root_mean_squared_error: 118.8594\n",
      "Epoch 23/30\n",
      "38/38 [==============================] - 0s 2ms/step - loss: 6900.8735 - root_mean_squared_error: 83.0715 - val_loss: 14123.2129 - val_root_mean_squared_error: 118.8411\n",
      "Epoch 24/30\n",
      "38/38 [==============================] - 0s 2ms/step - loss: 6898.1455 - root_mean_squared_error: 83.0551 - val_loss: 14118.8789 - val_root_mean_squared_error: 118.8229\n",
      "Epoch 25/30\n",
      "38/38 [==============================] - 0s 2ms/step - loss: 6895.4214 - root_mean_squared_error: 83.0387 - val_loss: 14114.5371 - val_root_mean_squared_error: 118.8046\n",
      "Epoch 26/30\n",
      "38/38 [==============================] - 0s 2ms/step - loss: 6892.6943 - root_mean_squared_error: 83.0223 - val_loss: 14110.1523 - val_root_mean_squared_error: 118.7862\n",
      "Epoch 27/30\n",
      "38/38 [==============================] - 0s 2ms/step - loss: 6889.9644 - root_mean_squared_error: 83.0058 - val_loss: 14105.8135 - val_root_mean_squared_error: 118.7679\n",
      "Epoch 28/30\n",
      "38/38 [==============================] - 0s 2ms/step - loss: 6887.2422 - root_mean_squared_error: 82.9894 - val_loss: 14101.4648 - val_root_mean_squared_error: 118.7496\n",
      "Epoch 29/30\n",
      "38/38 [==============================] - 0s 2ms/step - loss: 6884.5171 - root_mean_squared_error: 82.9730 - val_loss: 14097.1133 - val_root_mean_squared_error: 118.7313\n",
      "Epoch 30/30\n",
      "38/38 [==============================] - 0s 2ms/step - loss: 6881.7939 - root_mean_squared_error: 82.9566 - val_loss: 14092.7529 - val_root_mean_squared_error: 118.7129\n"
     ]
    }
   ],
   "source": [
    "# Train model\n",
    "history = model.fit(X_train, y_train, epochs=30, validation_data=(X_val, y_val))\n",
    "history_gru = model_gru.fit(X_train, y_train, epochs=30, validation_data=(X_val, y_val))"
   ]
  },
  {
   "cell_type": "code",
   "execution_count": 62,
   "metadata": {},
   "outputs": [
    {
     "data": {
      "text/plain": [
       "<matplotlib.legend.Legend at 0x1a8a5a2e2d0>"
      ]
     },
     "execution_count": 62,
     "metadata": {},
     "output_type": "execute_result"
    },
    {
     "data": {
      "image/png": "[encoded data removed]",
      "text/plain": [
       "<Figure size 640x480 with 1 Axes>"
      ]
     },
     "metadata": {},
     "output_type": "display_data"
    }
   ],
   "source": [
    "plt.plot(history.history['loss'][20:30], label='Training loss')\n",
    "plt.plot(history.history['val_loss'][20:30], label='Validation loss')\n",
    "plt.legend()"
   ]
  },
  {
   "cell_type": "code",
   "execution_count": 63,
   "metadata": {},
   "outputs": [
    {
     "data": {
      "text/plain": [
       "<matplotlib.legend.Legend at 0x1a8a25bb910>"
      ]
     },
     "execution_count": 63,
     "metadata": {},
     "output_type": "execute_result"
    },
    {
     "data": {
      "image/png": "[encoded data removed]",
      "text/plain": [
       "<Figure size 640x480 with 1 Axes>"
      ]
     },
     "metadata": {},
     "output_type": "display_data"
    }
   ],
   "source": [
    "plt.plot(history_gru.history['loss'][20:30], label='Training loss')\n",
    "plt.plot(history_gru.history['val_loss'][20:30], label='Validation loss')\n",
    "plt.legend()"
   ]
  },
  {
   "cell_type": "code",
   "execution_count": 64,
   "metadata": {},
   "outputs": [
    {
     "name": "stdout",
     "output_type": "stream",
     "text": [
      "38/38 [==============================] - 0s 814us/step\n",
      "38/38 [==============================] - 0s 732us/step\n"
     ]
    },
    {
     "data": {
      "text/html": [
       "<div>\n",
       "<style scoped>\n",
       "    .dataframe tbody tr th:only-of-type {\n",
       "        vertical-align: middle;\n",
       "    }\n",
       "\n",
       "    .dataframe tbody tr th {\n",
       "        vertical-align: top;\n",
       "    }\n",
       "\n",
       "    .dataframe thead th {\n",
       "        text-align: right;\n",
       "    }\n",
       "</style>\n",
       "<table border=\"1\" class=\"dataframe\">\n",
       "  <thead>\n",
       "    <tr style=\"text-align: right;\">\n",
       "      <th></th>\n",
       "      <th>hpi_value_prediction_LSTM</th>\n",
       "      <th>hpi_real_prediction_LSTM</th>\n",
       "      <th>hpi_value_prediction_GRU</th>\n",
       "      <th>hpi_real_prediction_GRU</th>\n",
       "      <th>hpi_value</th>\n",
       "      <th>hpi_real</th>\n",
       "    </tr>\n",
       "  </thead>\n",
       "  <tbody>\n",
       "    <tr>\n",
       "      <th>0</th>\n",
       "      <td>13.996191</td>\n",
       "      <td>22.154692</td>\n",
       "      <td>0.564238</td>\n",
       "      <td>0.567243</td>\n",
       "      <td>13.768903</td>\n",
       "      <td>45.531258</td>\n",
       "    </tr>\n",
       "    <tr>\n",
       "      <th>1</th>\n",
       "      <td>13.996191</td>\n",
       "      <td>22.154692</td>\n",
       "      <td>0.564238</td>\n",
       "      <td>0.567243</td>\n",
       "      <td>12.701623</td>\n",
       "      <td>41.843461</td>\n",
       "    </tr>\n",
       "    <tr>\n",
       "      <th>2</th>\n",
       "      <td>13.996191</td>\n",
       "      <td>22.154692</td>\n",
       "      <td>0.564238</td>\n",
       "      <td>0.567243</td>\n",
       "      <td>8.042733</td>\n",
       "      <td>26.495494</td>\n",
       "    </tr>\n",
       "    <tr>\n",
       "      <th>3</th>\n",
       "      <td>13.996191</td>\n",
       "      <td>22.154692</td>\n",
       "      <td>0.564238</td>\n",
       "      <td>0.567243</td>\n",
       "      <td>13.820352</td>\n",
       "      <td>45.528933</td>\n",
       "    </tr>\n",
       "    <tr>\n",
       "      <th>4</th>\n",
       "      <td>13.996191</td>\n",
       "      <td>22.154692</td>\n",
       "      <td>0.564238</td>\n",
       "      <td>0.567243</td>\n",
       "      <td>13.928677</td>\n",
       "      <td>45.799377</td>\n",
       "    </tr>\n",
       "    <tr>\n",
       "      <th>...</th>\n",
       "      <td>...</td>\n",
       "      <td>...</td>\n",
       "      <td>...</td>\n",
       "      <td>...</td>\n",
       "      <td>...</td>\n",
       "      <td>...</td>\n",
       "    </tr>\n",
       "    <tr>\n",
       "      <th>1195</th>\n",
       "      <td>13.996191</td>\n",
       "      <td>22.154692</td>\n",
       "      <td>0.564238</td>\n",
       "      <td>0.567243</td>\n",
       "      <td>154.218645</td>\n",
       "      <td>123.821410</td>\n",
       "    </tr>\n",
       "    <tr>\n",
       "      <th>1196</th>\n",
       "      <td>13.996191</td>\n",
       "      <td>22.154692</td>\n",
       "      <td>0.564238</td>\n",
       "      <td>0.567243</td>\n",
       "      <td>138.114581</td>\n",
       "      <td>110.891535</td>\n",
       "    </tr>\n",
       "    <tr>\n",
       "      <th>1197</th>\n",
       "      <td>13.996191</td>\n",
       "      <td>22.154692</td>\n",
       "      <td>0.564238</td>\n",
       "      <td>0.567243</td>\n",
       "      <td>131.762084</td>\n",
       "      <td>105.791145</td>\n",
       "    </tr>\n",
       "    <tr>\n",
       "      <th>1198</th>\n",
       "      <td>13.996191</td>\n",
       "      <td>22.154692</td>\n",
       "      <td>0.564238</td>\n",
       "      <td>0.567243</td>\n",
       "      <td>136.477662</td>\n",
       "      <td>108.800269</td>\n",
       "    </tr>\n",
       "    <tr>\n",
       "      <th>1199</th>\n",
       "      <td>13.996191</td>\n",
       "      <td>22.154692</td>\n",
       "      <td>0.564238</td>\n",
       "      <td>0.567243</td>\n",
       "      <td>153.531592</td>\n",
       "      <td>122.395697</td>\n",
       "    </tr>\n",
       "  </tbody>\n",
       "</table>\n",
       "<p>1200 rows × 6 columns</p>\n",
       "</div>"
      ],
      "text/plain": [
       "      hpi_value_prediction_LSTM  hpi_real_prediction_LSTM  \\\n",
       "0                     13.996191                 22.154692   \n",
       "1                     13.996191                 22.154692   \n",
       "2                     13.996191                 22.154692   \n",
       "3                     13.996191                 22.154692   \n",
       "4                     13.996191                 22.154692   \n",
       "...                         ...                       ...   \n",
       "1195                  13.996191                 22.154692   \n",
       "1196                  13.996191                 22.154692   \n",
       "1197                  13.996191                 22.154692   \n",
       "1198                  13.996191                 22.154692   \n",
       "1199                  13.996191                 22.154692   \n",
       "\n",
       "      hpi_value_prediction_GRU  hpi_real_prediction_GRU   hpi_value  \\\n",
       "0                     0.564238                 0.567243   13.768903   \n",
       "1                     0.564238                 0.567243   12.701623   \n",
       "2                     0.564238                 0.567243    8.042733   \n",
       "3                     0.564238                 0.567243   13.820352   \n",
       "4                     0.564238                 0.567243   13.928677   \n",
       "...                        ...                      ...         ...   \n",
       "1195                  0.564238                 0.567243  154.218645   \n",
       "1196                  0.564238                 0.567243  138.114581   \n",
       "1197                  0.564238                 0.567243  131.762084   \n",
       "1198                  0.564238                 0.567243  136.477662   \n",
       "1199                  0.564238                 0.567243  153.531592   \n",
       "\n",
       "        hpi_real  \n",
       "0      45.531258  \n",
       "1      41.843461  \n",
       "2      26.495494  \n",
       "3      45.528933  \n",
       "4      45.799377  \n",
       "...          ...  \n",
       "1195  123.821410  \n",
       "1196  110.891535  \n",
       "1197  105.791145  \n",
       "1198  108.800269  \n",
       "1199  122.395697  \n",
       "\n",
       "[1200 rows x 6 columns]"
      ]
     },
     "execution_count": 64,
     "metadata": {},
     "output_type": "execute_result"
    }
   ],
   "source": [
    "train_predictions1 = model.predict(X_train)\n",
    "train_predictions2 = model_gru.predict(X_train)\n",
    "train_results = pd.DataFrame(data={'hpi_value_prediction_LSTM': train_predictions1[:, 0],\n",
    "                                   'hpi_real_prediction_LSTM': train_predictions1[:, 1],\n",
    "                                   'hpi_value_prediction_GRU': train_predictions2[:, 0],\n",
    "                                   'hpi_real_prediction_GRU': train_predictions2[:, 1],\n",
    "                                   'hpi_value': y_train[:, 0],\n",
    "                                   'hpi_real': y_train[:, 1]})\n",
    "train_results"
   ]
  },
  {
   "cell_type": "code",
   "execution_count": 65,
   "metadata": {},
   "outputs": [
    {
     "data": {
      "text/plain": [
       "[<matplotlib.lines.Line2D at 0x1a8adf9b0d0>]"
      ]
     },
     "execution_count": 65,
     "metadata": {},
     "output_type": "execute_result"
    },
    {
     "data": {
      "image/png": "[encoded data removed]",
      "text/plain": [
       "<Figure size 640x480 with 1 Axes>"
      ]
     },
     "metadata": {},
     "output_type": "display_data"
    }
   ],
   "source": [
    "plt.plot(train_results['hpi_value_prediction_LSTM'][:1000])\n",
    "plt.plot(train_results['hpi_real_prediction_LSTM'][:1000])\n",
    "plt.plot(train_results['hpi_value_prediction_GRU'][:1000])\n",
    "plt.plot(train_results['hpi_real_prediction_GRU'][:1000])\n",
    "plt.plot(train_results['hpi_value'][:1000])\n",
    "plt.plot(train_results['hpi_real'][:1000])"
   ]
  },
  {
   "cell_type": "code",
   "execution_count": 48,
   "metadata": {},
   "outputs": [
    {
     "name": "stdout",
     "output_type": "stream",
     "text": [
      "38/38 [==============================] - 0s 705us/step\n",
      "38/38 [==============================] - 0s 732us/step\n"
     ]
    },
    {
     "data": {
      "text/html": [
       "<div>\n",
       "<style scoped>\n",
       "    .dataframe tbody tr th:only-of-type {\n",
       "        vertical-align: middle;\n",
       "    }\n",
       "\n",
       "    .dataframe tbody tr th {\n",
       "        vertical-align: top;\n",
       "    }\n",
       "\n",
       "    .dataframe thead th {\n",
       "        text-align: right;\n",
       "    }\n",
       "</style>\n",
       "<table border=\"1\" class=\"dataframe\">\n",
       "  <thead>\n",
       "    <tr style=\"text-align: right;\">\n",
       "      <th></th>\n",
       "      <th>hpi_value_prediction_LSTM</th>\n",
       "      <th>hpi_value_prediction_GRU</th>\n",
       "      <th>hpi_value</th>\n",
       "    </tr>\n",
       "  </thead>\n",
       "  <tbody>\n",
       "    <tr>\n",
       "      <th>0</th>\n",
       "      <td>13.092822</td>\n",
       "      <td>11.672248</td>\n",
       "      <td>13.768903</td>\n",
       "    </tr>\n",
       "    <tr>\n",
       "      <th>1</th>\n",
       "      <td>13.159951</td>\n",
       "      <td>12.291338</td>\n",
       "      <td>12.701623</td>\n",
       "    </tr>\n",
       "    <tr>\n",
       "      <th>2</th>\n",
       "      <td>13.250493</td>\n",
       "      <td>11.953387</td>\n",
       "      <td>8.042733</td>\n",
       "    </tr>\n",
       "    <tr>\n",
       "      <th>3</th>\n",
       "      <td>13.311749</td>\n",
       "      <td>15.168269</td>\n",
       "      <td>13.820352</td>\n",
       "    </tr>\n",
       "    <tr>\n",
       "      <th>4</th>\n",
       "      <td>13.560107</td>\n",
       "      <td>13.269721</td>\n",
       "      <td>13.928677</td>\n",
       "    </tr>\n",
       "    <tr>\n",
       "      <th>...</th>\n",
       "      <td>...</td>\n",
       "      <td>...</td>\n",
       "      <td>...</td>\n",
       "    </tr>\n",
       "    <tr>\n",
       "      <th>1195</th>\n",
       "      <td>73.633949</td>\n",
       "      <td>134.978516</td>\n",
       "      <td>154.218645</td>\n",
       "    </tr>\n",
       "    <tr>\n",
       "      <th>1196</th>\n",
       "      <td>73.634132</td>\n",
       "      <td>135.042221</td>\n",
       "      <td>138.114581</td>\n",
       "    </tr>\n",
       "    <tr>\n",
       "      <th>1197</th>\n",
       "      <td>73.634071</td>\n",
       "      <td>134.979767</td>\n",
       "      <td>131.762084</td>\n",
       "    </tr>\n",
       "    <tr>\n",
       "      <th>1198</th>\n",
       "      <td>73.633644</td>\n",
       "      <td>134.883102</td>\n",
       "      <td>136.477662</td>\n",
       "    </tr>\n",
       "    <tr>\n",
       "      <th>1199</th>\n",
       "      <td>73.633644</td>\n",
       "      <td>134.942215</td>\n",
       "      <td>153.531592</td>\n",
       "    </tr>\n",
       "  </tbody>\n",
       "</table>\n",
       "<p>1200 rows × 3 columns</p>\n",
       "</div>"
      ],
      "text/plain": [
       "      hpi_value_prediction_LSTM  hpi_value_prediction_GRU   hpi_value\n",
       "0                     13.092822                 11.672248   13.768903\n",
       "1                     13.159951                 12.291338   12.701623\n",
       "2                     13.250493                 11.953387    8.042733\n",
       "3                     13.311749                 15.168269   13.820352\n",
       "4                     13.560107                 13.269721   13.928677\n",
       "...                         ...                       ...         ...\n",
       "1195                  73.633949                134.978516  154.218645\n",
       "1196                  73.634132                135.042221  138.114581\n",
       "1197                  73.634071                134.979767  131.762084\n",
       "1198                  73.633644                134.883102  136.477662\n",
       "1199                  73.633644                134.942215  153.531592\n",
       "\n",
       "[1200 rows x 3 columns]"
      ]
     },
     "execution_count": 48,
     "metadata": {},
     "output_type": "execute_result"
    }
   ],
   "source": [
    "train_predictions1 = model.predict(X_train)\n",
    "train_predictions2 = model_gru.predict(X_train)\n",
    "train_results = pd.DataFrame(data={'hpi_value_prediction_LSTM': train_predictions1[:, 0],\n",
    "                                   'hpi_value_prediction_GRU': train_predictions2[:, 0],\n",
    "                                   'hpi_value': y_train[:, 0]})\n",
    "train_results"
   ]
  },
  {
   "cell_type": "code",
   "execution_count": 49,
   "metadata": {},
   "outputs": [
    {
     "data": {
      "text/plain": [
       "[<matplotlib.lines.Line2D at 0x1a8af29fcd0>]"
      ]
     },
     "execution_count": 49,
     "metadata": {},
     "output_type": "execute_result"
    },
    {
     "data": {
      "image/png": "[encoded data removed]",
      "text/plain": [
       "<Figure size 640x480 with 1 Axes>"
      ]
     },
     "metadata": {},
     "output_type": "display_data"
    }
   ],
   "source": [
    "plt.plot(train_results['hpi_value_prediction_LSTM'][:1000])\n",
    "plt.plot(train_results['hpi_value_prediction_GRU'][:1000])\n",
    "plt.plot(train_results['hpi_value'][:1000])"
   ]
  },
  {
   "cell_type": "code",
   "execution_count": null,
   "metadata": {},
   "outputs": [],
   "source": []
  },
  {
   "cell_type": "code",
   "execution_count": null,
   "metadata": {},
   "outputs": [],
   "source": []
  },
  {
   "cell_type": "code",
   "execution_count": null,
   "metadata": {},
   "outputs": [],
   "source": []
  },
  {
   "cell_type": "code",
   "execution_count": null,
   "metadata": {},
   "outputs": [],
   "source": []
  },
  {
   "cell_type": "code",
   "execution_count": null,
   "metadata": {},
   "outputs": [],
   "source": []
  },
  {
   "cell_type": "code",
   "execution_count": null,
   "metadata": {},
   "outputs": [],
   "source": [
    "dates = data_processed['month']\n",
    "dates"
   ]
  },
  {
   "cell_type": "code",
   "execution_count": null,
   "metadata": {},
   "outputs": [],
   "source": [
    "# Get training dataframe\n",
    "training_df = data_processed.drop(['month'], axis=1)\n",
    "training_df"
   ]
  },
  {
   "cell_type": "code",
   "execution_count": null,
   "metadata": {},
   "outputs": [],
   "source": [
    "scalar = StandardScaler()\n",
    "scalar = scalar.fit(training_df)\n",
    "training_df_scaled = scalar.transform(training_df)\n",
    "training_df_scaled"
   ]
  },
  {
   "cell_type": "code",
   "execution_count": null,
   "metadata": {},
   "outputs": [],
   "source": [
    "trainX = []\n",
    "trainY = []\n",
    "\n",
    "n_past = 20 # 20 values considered to predict next values\n",
    "n_fut = 100 # 100 values to be predicted based on the 20 previous values\n",
    "\n",
    "# Adding values to x and y lists\n",
    "for i in range(n_past, len(training_df_scaled)-n_fut+1):\n",
    "    trainX.append(training_df_scaled[i-n_past:i, 0:training_df_scaled.shape[1]])\n",
    "    trainY.append(training_df_scaled[i+n_fut-1:i+n_fut, 2:4])\n",
    "\n",
    "# Converting into numpy arrays\n",
    "trainX, trainY = np.array(trainX), np.array(trainY)\n",
    "\n",
    "print(f'trainX shape: {trainX.shape}')\n",
    "print(f'trainY shape: {trainY.shape}')"
   ]
  },
  {
   "cell_type": "code",
   "execution_count": null,
   "metadata": {},
   "outputs": [],
   "source": [
    "model = Sequential()\n",
    "model.add(LSTM(32, activation='relu', input_shape=(trainX.shape[1], trainX.shape[2]), return_sequences=True))\n",
    "model.add(Dropout(0.3))\n",
    "\n",
    "model.add(LSTM(32, activation='relu', return_sequences=True))\n",
    "model.add(Dropout(0.3))\n",
    "\n",
    "model.add(LSTM(32, activation='relu', return_sequences=False))\n",
    "model.add(Dropout(0.3))\n",
    "\n",
    "model.add(Dense(trainY.shape[1]))\n",
    "\n",
    "model.compile(optimizer='adam', loss='mse')\n",
    "model.summary()"
   ]
  },
  {
   "cell_type": "code",
   "execution_count": null,
   "metadata": {},
   "outputs": [],
   "source": [
    "history = model.fit(trainX, trainY, epochs=30, batch_size=25, validation_split=0.2, verbose=1)"
   ]
  },
  {
   "cell_type": "code",
   "execution_count": null,
   "metadata": {},
   "outputs": [],
   "source": [
    "plt.plot(history.history['loss'], label='Training loss')\n",
    "plt.plot(history.history['val_loss'], label='Validation loss')\n",
    "plt.legend()"
   ]
  },
  {
   "cell_type": "code",
   "execution_count": null,
   "metadata": {},
   "outputs": [],
   "source": [
    "test_predictions1 = model.predict(X_test)"
   ]
  },
  {
   "cell_type": "code",
   "execution_count": null,
   "metadata": {},
   "outputs": [],
   "source": [
    "X_test[1][2:4]"
   ]
  },
  {
   "cell_type": "code",
   "execution_count": null,
   "metadata": {},
   "outputs": [],
   "source": [
    "X_test_list = []\n",
    "for i in range(len(X_test)):\n",
    "    X_test_list.append(X_test[i][2:4])\n",
    "    \n",
    "\n",
    "test_predictions_df1 = pd.DataFrame({'X_test':list(X_test_list), \n",
    "                                    'LSTM Prediction':list(test_predictions1)})"
   ]
  },
  {
   "cell_type": "code",
   "execution_count": null,
   "metadata": {},
   "outputs": [],
   "source": [
    "test_predictions_df1"
   ]
  },
  {
   "cell_type": "code",
   "execution_count": null,
   "metadata": {},
   "outputs": [],
   "source": []
  },
  {
   "cell_type": "code",
   "execution_count": null,
   "metadata": {},
   "outputs": [],
   "source": []
  },
  {
   "cell_type": "code",
   "execution_count": null,
   "metadata": {},
   "outputs": [],
   "source": []
  }
 ],
 "metadata": {
  "kernelspec": {
   "display_name": ".venv",
   "language": "python",
   "name": "python3"
  },
  "language_info": {
   "codemirror_mode": {
    "name": "ipython",
    "version": 3
   },
   "file_extension": ".py",
   "mimetype": "text/x-python",
   "name": "python",
   "nbconvert_exporter": "python",
   "pygments_lexer": "ipython3",
   "version": "3.11.5"
  }
 },
 "nbformat": 4,
 "nbformat_minor": 2
}
